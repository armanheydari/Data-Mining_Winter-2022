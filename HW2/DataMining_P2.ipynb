{
  "cells": [
    {
      "cell_type": "markdown",
      "metadata": {
        "id": "to_M-_c-NO-j"
      },
      "source": [
        "# Step 0: requirements and load data"
      ]
    },
    {
      "cell_type": "code",
      "execution_count": 1,
      "metadata": {
        "colab": {
          "base_uri": "https://localhost:8080/"
        },
        "id": "hnGDfjfT_M7g",
        "outputId": "55c07ec7-6a26-4205-8a46-805f084008ad"
      },
      "outputs": [
        {
          "output_type": "stream",
          "name": "stdout",
          "text": [
            "Mounted at /content/drive\n"
          ]
        }
      ],
      "source": [
        "from google.colab import drive\n",
        "drive.mount('/content/drive')"
      ]
    },
    {
      "cell_type": "code",
      "execution_count": 3,
      "metadata": {
        "id": "5hj63W9xt5LP"
      },
      "outputs": [],
      "source": [
        "import pandas as pd\n",
        "import numpy as np\n",
        "import os\n",
        "import itertools\n",
        "import collections\n",
        "import matplotlib.pyplot as plt\n",
        "import tensorflow as tf"
      ]
    },
    {
      "cell_type": "code",
      "execution_count": 57,
      "metadata": {
        "colab": {
          "base_uri": "https://localhost:8080/"
        },
        "id": "iH15OeqSdm_W",
        "outputId": "b36e786a-f884-4f6c-d660-1476e86f2f6d"
      },
      "outputs": [
        {
          "output_type": "stream",
          "name": "stdout",
          "text": [
            "--2022-05-17 15:37:51--  http://205.174.165.80/CICDataset/CICDDoS2019/Dataset/CSVs/CSV-03-11.zip\n",
            "Connecting to 205.174.165.80:80... connected.\n",
            "HTTP request sent, awaiting response... 200 OK\n",
            "Length: 918815761 (876M) [application/zip]\n",
            "Saving to: ‘CSV-03-11.zip’\n",
            "\n",
            "CSV-03-11.zip       100%[===================>] 876.25M  3.68MB/s    in 4m 43s  \n",
            "\n",
            "2022-05-17 15:42:34 (3.10 MB/s) - ‘CSV-03-11.zip’ saved [918815761/918815761]\n",
            "\n",
            "Archive:  CSV-03-11.zip\n",
            "   creating: 03-11/\n",
            "  inflating: 03-11/UDPLag.csv        \n",
            "  inflating: 03-11/UDP.csv           \n",
            "  inflating: 03-11/.~lock.UDPLag.csv#  \n",
            "  inflating: 03-11/LDAP.csv          \n",
            "  inflating: 03-11/MSSQL.csv         \n",
            "  inflating: 03-11/NetBIOS.csv       \n",
            "  inflating: 03-11/Portmap.csv       \n",
            "  inflating: 03-11/Syn.csv           \n"
          ]
        }
      ],
      "source": [
        "!wget 'http://205.174.165.80/CICDataset/CICDDoS2019/Dataset/CSVs/CSV-03-11.zip'\n",
        "!unzip 'CSV-03-11.zip'"
      ]
    },
    {
      "cell_type": "markdown",
      "metadata": {
        "id": "Ms-6s4UjNVtR"
      },
      "source": [
        "# Step 1: Sampling"
      ]
    },
    {
      "cell_type": "code",
      "execution_count": 58,
      "metadata": {
        "id": "dcgjczNpflGI",
        "colab": {
          "base_uri": "https://localhost:8080/"
        },
        "outputId": "ee9c83f1-41ad-4f03-a424-0309d21ba53b"
      },
      "outputs": [
        {
          "output_type": "stream",
          "name": "stdout",
          "text": [
            "Portmap.csv founded. it has 191695 records.\n",
            "UDPLag.csv founded. it has 725166 records.\n",
            "Syn.csv founded. it has 4320542 records.\n",
            "UDP.csv founded. it has 3782207 records.\n",
            "NetBIOS.csv founded. it has 3455900 records.\n",
            "MSSQL.csv founded. it has 5775787 records.\n",
            "LDAP.csv founded. it has 2113235 records.\n"
          ]
        }
      ],
      "source": [
        "dataframes_paths = []\n",
        "chunksize = 10 ** 6\n",
        "dataset_directory = '03-11'\n",
        "for path in os.listdir(dataset_directory):\n",
        "  if path.endswith('.csv'):\n",
        "    dataframes_paths.append(os.path.join(dataset_directory, path))\n",
        "    l = 0\n",
        "    for row in open(os.path.join(dataset_directory, path)):\n",
        "      l+=1\n",
        "    print(path, 'founded. it has', l, \"records.\")"
      ]
    },
    {
      "cell_type": "code",
      "execution_count": 59,
      "metadata": {
        "id": "jt8vTR7-ey4H"
      },
      "outputs": [],
      "source": [
        "def combine_dicts(dict1, dict2):\n",
        "  Cdict = collections.defaultdict(int)\n",
        "  for key, val in itertools.chain(dict1.items(), dict2.items()):\n",
        "      Cdict[key] += val\n",
        "  return dict(Cdict)"
      ]
    },
    {
      "cell_type": "code",
      "execution_count": null,
      "metadata": {
        "id": "exLM8bnkUsce"
      },
      "outputs": [],
      "source": [
        "total_value_counts = {}\n",
        "for df_path in dataframes_paths:\n",
        "  df = pd.read_csv(df_path, chunksize=chunksize, low_memory=False)\n",
        "  for chunk in df:\n",
        "    total_value_counts = combine_dicts(total_value_counts, chunk[' Label'].value_counts().to_dict())"
      ]
    },
    {
      "cell_type": "code",
      "execution_count": null,
      "metadata": {
        "id": "i1Y9mZk2i4DY",
        "colab": {
          "base_uri": "https://localhost:8080/",
          "height": 428
        },
        "outputId": "c3bfd717-4aa3-4765-e551-0db16e0b2d7c"
      },
      "outputs": [
        {
          "output_type": "execute_result",
          "data": {
            "text/plain": [
              "<matplotlib.axes._subplots.AxesSubplot at 0x7fa125dc1890>"
            ]
          },
          "metadata": {},
          "execution_count": 7
        },
        {
          "output_type": "display_data",
          "data": {
            "text/plain": [
              "<Figure size 504x504 with 1 Axes>"
            ],
            "image/png": "[encoded data removed]"
          },
          "metadata": {}
        }
      ],
      "source": [
        "pd.DataFrame.from_dict(total_value_counts, orient='index', columns=['count']).plot.pie(y='count', figsize=(7,7))"
      ]
    },
    {
      "cell_type": "code",
      "execution_count": null,
      "metadata": {
        "id": "7xd87w-iII5w",
        "colab": {
          "base_uri": "https://localhost:8080/"
        },
        "outputId": "7241238e-3cfe-46f9-e6db-045427beff49"
      },
      "outputs": [
        {
          "output_type": "execute_result",
          "data": {
            "text/plain": [
              "{'BENIGN': 56965,\n",
              " 'LDAP': 1915122,\n",
              " 'MSSQL': 5787453,\n",
              " 'NetBIOS': 3657497,\n",
              " 'Portmap': 186960,\n",
              " 'Syn': 4891500,\n",
              " 'UDP': 3867155,\n",
              " 'UDPLag': 1873}"
            ]
          },
          "metadata": {},
          "execution_count": 8
        }
      ],
      "source": [
        "total_value_counts"
      ]
    },
    {
      "cell_type": "code",
      "execution_count": 61,
      "metadata": {
        "id": "6t0yc47iOOM6"
      },
      "outputs": [],
      "source": [
        "def sampling(df, sampled_value_counts, threshold = int(total_value_counts['BENIGN']/6)):\n",
        "  sample = pd.DataFrame()\n",
        "  df_values = df[' Label'].value_counts().to_dict()\n",
        "\n",
        "  for k,v in df_values.items():\n",
        "    if threshold>v or k == 'BENIGN':\n",
        "      temp = df[df[' Label']== k]\n",
        "      sample = pd.concat([sample, temp])\n",
        "    elif threshold > sampled_value_counts[k]:\n",
        "      temp = df[df[' Label']== k]\n",
        "      sample = pd.concat([sample, temp.sample(threshold-sampled_value_counts[k])])\n",
        "  return sample"
      ]
    },
    {
      "cell_type": "code",
      "execution_count": null,
      "metadata": {
        "id": "xn7W_cQZxTaJ",
        "colab": {
          "base_uri": "https://localhost:8080/",
          "height": 1000
        },
        "outputId": "31ad480d-c52f-4a7b-a4f6-5ff0626ab788"
      },
      "outputs": [
        {
          "output_type": "stream",
          "name": "stdout",
          "text": [
            "one dataframe sampled!\n",
            "one dataframe sampled!\n",
            "one dataframe sampled!\n",
            "one dataframe sampled!\n",
            "one dataframe sampled!\n",
            "one dataframe sampled!\n",
            "one dataframe sampled!\n"
          ]
        },
        {
          "output_type": "execute_result",
          "data": {
            "text/plain": [
              "        Unnamed: 0                                 Flow ID       Source IP  \\\n",
              "0            91189  172.16.0.5-192.168.50.4-47035-50228-17      172.16.0.5   \n",
              "1            86277  172.16.0.5-192.168.50.4-34084-40567-17      172.16.0.5   \n",
              "2              664  172.16.0.5-192.168.50.4-45458-10676-17      172.16.0.5   \n",
              "3            51677  172.16.0.5-192.168.50.4-44562-19803-17      172.16.0.5   \n",
              "4           122987  172.16.0.5-192.168.50.4-43630-58616-17      172.16.0.5   \n",
              "...            ...                                     ...             ...   \n",
              "115797          43    172.217.10.2-192.168.50.8-80-60002-6    192.168.50.8   \n",
              "115798          44  192.168.50.8-74.208.236.171-60001-80-6    192.168.50.8   \n",
              "115799      324450    172.217.10.2-192.168.50.8-80-60002-6    172.217.10.2   \n",
              "115800      196126  192.168.50.8-74.208.236.171-60001-80-6  74.208.236.171   \n",
              "115801      260952   172.217.10.2-192.168.50.6-443-55306-6    192.168.50.6   \n",
              "\n",
              "         Source Port  Destination IP   Destination Port   Protocol  \\\n",
              "0              47035    192.168.50.4              50228         17   \n",
              "1              34084    192.168.50.4              40567         17   \n",
              "2              45458    192.168.50.4              10676         17   \n",
              "3              44562    192.168.50.4              19803         17   \n",
              "4              43630    192.168.50.4              58616         17   \n",
              "...              ...             ...                ...        ...   \n",
              "115797         60002    172.217.10.2                 80          6   \n",
              "115798         60001  74.208.236.171                 80          6   \n",
              "115799            80    192.168.50.8              60002          6   \n",
              "115800            80    192.168.50.8              60001          6   \n",
              "115801         55306    172.217.10.2                443          6   \n",
              "\n",
              "                         Timestamp   Flow Duration   Total Fwd Packets  ...  \\\n",
              "0       2018-11-03 10:54:50.815111              46                   2  ...   \n",
              "1       2018-11-03 10:55:45.203849          989248                  20  ...   \n",
              "2       2018-11-03 10:55:51.528910          214329                   6  ...   \n",
              "3       2018-11-03 10:55:13.589779          105498                   4  ...   \n",
              "4       2018-11-03 10:55:57.635774               1                   2  ...   \n",
              "...                            ...             ...                 ...  ...   \n",
              "115797  2018-11-03 10:08:59.730537           41177                   1  ...   \n",
              "115798  2018-11-03 10:08:59.730586           55337                   1  ...   \n",
              "115799  2018-11-03 10:08:59.771715             158                   1  ...   \n",
              "115800  2018-11-03 10:08:59.785924             162                   1  ...   \n",
              "115801  2018-11-03 10:09:00.173117           62247                   4  ...   \n",
              "\n",
              "         Active Std   Active Max   Active Min  Idle Mean   Idle Std  \\\n",
              "0               0.0          0.0          0.0        0.0        0.0   \n",
              "1               0.0          0.0          0.0        0.0        0.0   \n",
              "2               0.0          0.0          0.0        0.0        0.0   \n",
              "3               0.0          0.0          0.0        0.0        0.0   \n",
              "4               0.0          0.0          0.0        0.0        0.0   \n",
              "...             ...          ...          ...        ...        ...   \n",
              "115797          0.0          0.0          0.0        0.0        0.0   \n",
              "115798          0.0          0.0          0.0        0.0        0.0   \n",
              "115799          0.0          0.0          0.0        0.0        0.0   \n",
              "115800          0.0          0.0          0.0        0.0        0.0   \n",
              "115801          0.0          0.0          0.0        0.0        0.0   \n",
              "\n",
              "         Idle Max   Idle Min  SimillarHTTP   Inbound   Label  \n",
              "0             0.0        0.0             0         1     UDP  \n",
              "1             0.0        0.0             0         1     UDP  \n",
              "2             0.0        0.0             0         1     UDP  \n",
              "3             0.0        0.0             0         1     UDP  \n",
              "4             0.0        0.0             0         1     UDP  \n",
              "...           ...        ...           ...       ...     ...  \n",
              "115797        0.0        0.0             0         0  BENIGN  \n",
              "115798        0.0        0.0             0         0  BENIGN  \n",
              "115799        0.0        0.0             0         1  BENIGN  \n",
              "115800        0.0        0.0             0         1  BENIGN  \n",
              "115801        0.0        0.0             0         0  BENIGN  \n",
              "\n",
              "[115802 rows x 88 columns]"
            ],
            "text/html": [
              "\n",
              "  <div id=\"df-4f0cd541-a623-40c9-8a92-bfd4ed46341f\">\n",
              "    <div class=\"colab-df-container\">\n",
              "      <div>\n",
              "<style scoped>\n",
              "    .dataframe tbody tr th:only-of-type {\n",
              "        vertical-align: middle;\n",
              "    }\n",
              "\n",
              "    .dataframe tbody tr th {\n",
              "        vertical-align: top;\n",
              "    }\n",
              "\n",
              "    .dataframe thead th {\n",
              "        text-align: right;\n",
              "    }\n",
              "</style>\n",
              "<table border=\"1\" class=\"dataframe\">\n",
              "  <thead>\n",
              "    <tr style=\"text-align: right;\">\n",
              "      <th></th>\n",
              "      <th>Unnamed: 0</th>\n",
              "      <th>Flow ID</th>\n",
              "      <th>Source IP</th>\n",
              "      <th>Source Port</th>\n",
              "      <th>Destination IP</th>\n",
              "      <th>Destination Port</th>\n",
              "      <th>Protocol</th>\n",
              "      <th>Timestamp</th>\n",
              "      <th>Flow Duration</th>\n",
              "      <th>Total Fwd Packets</th>\n",
              "      <th>...</th>\n",
              "      <th>Active Std</th>\n",
              "      <th>Active Max</th>\n",
              "      <th>Active Min</th>\n",
              "      <th>Idle Mean</th>\n",
              "      <th>Idle Std</th>\n",
              "      <th>Idle Max</th>\n",
              "      <th>Idle Min</th>\n",
              "      <th>SimillarHTTP</th>\n",
              "      <th>Inbound</th>\n",
              "      <th>Label</th>\n",
              "    </tr>\n",
              "  </thead>\n",
              "  <tbody>\n",
              "    <tr>\n",
              "      <th>0</th>\n",
              "      <td>91189</td>\n",
              "      <td>172.16.0.5-192.168.50.4-47035-50228-17</td>\n",
              "      <td>172.16.0.5</td>\n",
              "      <td>47035</td>\n",
              "      <td>192.168.50.4</td>\n",
              "      <td>50228</td>\n",
              "      <td>17</td>\n",
              "      <td>2018-11-03 10:54:50.815111</td>\n",
              "      <td>46</td>\n",
              "      <td>2</td>\n",
              "      <td>...</td>\n",
              "      <td>0.0</td>\n",
              "      <td>0.0</td>\n",
              "      <td>0.0</td>\n",
              "      <td>0.0</td>\n",
              "      <td>0.0</td>\n",
              "      <td>0.0</td>\n",
              "      <td>0.0</td>\n",
              "      <td>0</td>\n",
              "      <td>1</td>\n",
              "      <td>UDP</td>\n",
              "    </tr>\n",
              "    <tr>\n",
              "      <th>1</th>\n",
              "      <td>86277</td>\n",
              "      <td>172.16.0.5-192.168.50.4-34084-40567-17</td>\n",
              "      <td>172.16.0.5</td>\n",
              "      <td>34084</td>\n",
              "      <td>192.168.50.4</td>\n",
              "      <td>40567</td>\n",
              "      <td>17</td>\n",
              "      <td>2018-11-03 10:55:45.203849</td>\n",
              "      <td>989248</td>\n",
              "      <td>20</td>\n",
              "      <td>...</td>\n",
              "      <td>0.0</td>\n",
              "      <td>0.0</td>\n",
              "      <td>0.0</td>\n",
              "      <td>0.0</td>\n",
              "      <td>0.0</td>\n",
              "      <td>0.0</td>\n",
              "      <td>0.0</td>\n",
              "      <td>0</td>\n",
              "      <td>1</td>\n",
              "      <td>UDP</td>\n",
              "    </tr>\n",
              "    <tr>\n",
              "      <th>2</th>\n",
              "      <td>664</td>\n",
              "      <td>172.16.0.5-192.168.50.4-45458-10676-17</td>\n",
              "      <td>172.16.0.5</td>\n",
              "      <td>45458</td>\n",
              "      <td>192.168.50.4</td>\n",
              "      <td>10676</td>\n",
              "      <td>17</td>\n",
              "      <td>2018-11-03 10:55:51.528910</td>\n",
              "      <td>214329</td>\n",
              "      <td>6</td>\n",
              "      <td>...</td>\n",
              "      <td>0.0</td>\n",
              "      <td>0.0</td>\n",
              "      <td>0.0</td>\n",
              "      <td>0.0</td>\n",
              "      <td>0.0</td>\n",
              "      <td>0.0</td>\n",
              "      <td>0.0</td>\n",
              "      <td>0</td>\n",
              "      <td>1</td>\n",
              "      <td>UDP</td>\n",
              "    </tr>\n",
              "    <tr>\n",
              "      <th>3</th>\n",
              "      <td>51677</td>\n",
              "      <td>172.16.0.5-192.168.50.4-44562-19803-17</td>\n",
              "      <td>172.16.0.5</td>\n",
              "      <td>44562</td>\n",
              "      <td>192.168.50.4</td>\n",
              "      <td>19803</td>\n",
              "      <td>17</td>\n",
              "      <td>2018-11-03 10:55:13.589779</td>\n",
              "      <td>105498</td>\n",
              "      <td>4</td>\n",
              "      <td>...</td>\n",
              "      <td>0.0</td>\n",
              "      <td>0.0</td>\n",
              "      <td>0.0</td>\n",
              "      <td>0.0</td>\n",
              "      <td>0.0</td>\n",
              "      <td>0.0</td>\n",
              "      <td>0.0</td>\n",
              "      <td>0</td>\n",
              "      <td>1</td>\n",
              "      <td>UDP</td>\n",
              "    </tr>\n",
              "    <tr>\n",
              "      <th>4</th>\n",
              "      <td>122987</td>\n",
              "      <td>172.16.0.5-192.168.50.4-43630-58616-17</td>\n",
              "      <td>172.16.0.5</td>\n",
              "      <td>43630</td>\n",
              "      <td>192.168.50.4</td>\n",
              "      <td>58616</td>\n",
              "      <td>17</td>\n",
              "      <td>2018-11-03 10:55:57.635774</td>\n",
              "      <td>1</td>\n",
              "      <td>2</td>\n",
              "      <td>...</td>\n",
              "      <td>0.0</td>\n",
              "      <td>0.0</td>\n",
              "      <td>0.0</td>\n",
              "      <td>0.0</td>\n",
              "      <td>0.0</td>\n",
              "      <td>0.0</td>\n",
              "      <td>0.0</td>\n",
              "      <td>0</td>\n",
              "      <td>1</td>\n",
              "      <td>UDP</td>\n",
              "    </tr>\n",
              "    <tr>\n",
              "      <th>...</th>\n",
              "      <td>...</td>\n",
              "      <td>...</td>\n",
              "      <td>...</td>\n",
              "      <td>...</td>\n",
              "      <td>...</td>\n",
              "      <td>...</td>\n",
              "      <td>...</td>\n",
              "      <td>...</td>\n",
              "      <td>...</td>\n",
              "      <td>...</td>\n",
              "      <td>...</td>\n",
              "      <td>...</td>\n",
              "      <td>...</td>\n",
              "      <td>...</td>\n",
              "      <td>...</td>\n",
              "      <td>...</td>\n",
              "      <td>...</td>\n",
              "      <td>...</td>\n",
              "      <td>...</td>\n",
              "      <td>...</td>\n",
              "      <td>...</td>\n",
              "    </tr>\n",
              "    <tr>\n",
              "      <th>115797</th>\n",
              "      <td>43</td>\n",
              "      <td>172.217.10.2-192.168.50.8-80-60002-6</td>\n",
              "      <td>192.168.50.8</td>\n",
              "      <td>60002</td>\n",
              "      <td>172.217.10.2</td>\n",
              "      <td>80</td>\n",
              "      <td>6</td>\n",
              "      <td>2018-11-03 10:08:59.730537</td>\n",
              "      <td>41177</td>\n",
              "      <td>1</td>\n",
              "      <td>...</td>\n",
              "      <td>0.0</td>\n",
              "      <td>0.0</td>\n",
              "      <td>0.0</td>\n",
              "      <td>0.0</td>\n",
              "      <td>0.0</td>\n",
              "      <td>0.0</td>\n",
              "      <td>0.0</td>\n",
              "      <td>0</td>\n",
              "      <td>0</td>\n",
              "      <td>BENIGN</td>\n",
              "    </tr>\n",
              "    <tr>\n",
              "      <th>115798</th>\n",
              "      <td>44</td>\n",
              "      <td>192.168.50.8-74.208.236.171-60001-80-6</td>\n",
              "      <td>192.168.50.8</td>\n",
              "      <td>60001</td>\n",
              "      <td>74.208.236.171</td>\n",
              "      <td>80</td>\n",
              "      <td>6</td>\n",
              "      <td>2018-11-03 10:08:59.730586</td>\n",
              "      <td>55337</td>\n",
              "      <td>1</td>\n",
              "      <td>...</td>\n",
              "      <td>0.0</td>\n",
              "      <td>0.0</td>\n",
              "      <td>0.0</td>\n",
              "      <td>0.0</td>\n",
              "      <td>0.0</td>\n",
              "      <td>0.0</td>\n",
              "      <td>0.0</td>\n",
              "      <td>0</td>\n",
              "      <td>0</td>\n",
              "      <td>BENIGN</td>\n",
              "    </tr>\n",
              "    <tr>\n",
              "      <th>115799</th>\n",
              "      <td>324450</td>\n",
              "      <td>172.217.10.2-192.168.50.8-80-60002-6</td>\n",
              "      <td>172.217.10.2</td>\n",
              "      <td>80</td>\n",
              "      <td>192.168.50.8</td>\n",
              "      <td>60002</td>\n",
              "      <td>6</td>\n",
              "      <td>2018-11-03 10:08:59.771715</td>\n",
              "      <td>158</td>\n",
              "      <td>1</td>\n",
              "      <td>...</td>\n",
              "      <td>0.0</td>\n",
              "      <td>0.0</td>\n",
              "      <td>0.0</td>\n",
              "      <td>0.0</td>\n",
              "      <td>0.0</td>\n",
              "      <td>0.0</td>\n",
              "      <td>0.0</td>\n",
              "      <td>0</td>\n",
              "      <td>1</td>\n",
              "      <td>BENIGN</td>\n",
              "    </tr>\n",
              "    <tr>\n",
              "      <th>115800</th>\n",
              "      <td>196126</td>\n",
              "      <td>192.168.50.8-74.208.236.171-60001-80-6</td>\n",
              "      <td>74.208.236.171</td>\n",
              "      <td>80</td>\n",
              "      <td>192.168.50.8</td>\n",
              "      <td>60001</td>\n",
              "      <td>6</td>\n",
              "      <td>2018-11-03 10:08:59.785924</td>\n",
              "      <td>162</td>\n",
              "      <td>1</td>\n",
              "      <td>...</td>\n",
              "      <td>0.0</td>\n",
              "      <td>0.0</td>\n",
              "      <td>0.0</td>\n",
              "      <td>0.0</td>\n",
              "      <td>0.0</td>\n",
              "      <td>0.0</td>\n",
              "      <td>0.0</td>\n",
              "      <td>0</td>\n",
              "      <td>1</td>\n",
              "      <td>BENIGN</td>\n",
              "    </tr>\n",
              "    <tr>\n",
              "      <th>115801</th>\n",
              "      <td>260952</td>\n",
              "      <td>172.217.10.2-192.168.50.6-443-55306-6</td>\n",
              "      <td>192.168.50.6</td>\n",
              "      <td>55306</td>\n",
              "      <td>172.217.10.2</td>\n",
              "      <td>443</td>\n",
              "      <td>6</td>\n",
              "      <td>2018-11-03 10:09:00.173117</td>\n",
              "      <td>62247</td>\n",
              "      <td>4</td>\n",
              "      <td>...</td>\n",
              "      <td>0.0</td>\n",
              "      <td>0.0</td>\n",
              "      <td>0.0</td>\n",
              "      <td>0.0</td>\n",
              "      <td>0.0</td>\n",
              "      <td>0.0</td>\n",
              "      <td>0.0</td>\n",
              "      <td>0</td>\n",
              "      <td>0</td>\n",
              "      <td>BENIGN</td>\n",
              "    </tr>\n",
              "  </tbody>\n",
              "</table>\n",
              "<p>115802 rows × 88 columns</p>\n",
              "</div>\n",
              "      <button class=\"colab-df-convert\" onclick=\"convertToInteractive('df-4f0cd541-a623-40c9-8a92-bfd4ed46341f')\"\n",
              "              title=\"Convert this dataframe to an interactive table.\"\n",
              "              style=\"display:none;\">\n",
              "        \n",
              "  <svg xmlns=\"http://www.w3.org/2000/svg\" height=\"24px\"viewBox=\"0 0 24 24\"\n",
              "       width=\"24px\">\n",
              "    <path d=\"M0 0h24v24H0V0z\" fill=\"none\"/>\n",
              "    <path d=\"M18.56 5.44l.94 2.06.94-2.06 2.06-.94-2.06-.94-.94-2.06-.94 2.06-2.06.94zm-11 1L8.5 8.5l.94-2.06 2.06-.94-2.06-.94L8.5 2.5l-.94 2.06-2.06.94zm10 10l.94 2.06.94-2.06 2.06-.94-2.06-.94-.94-2.06-.94 2.06-2.06.94z\"/><path d=\"M17.41 7.96l-1.37-1.37c-.4-.4-.92-.59-1.43-.59-.52 0-1.04.2-1.43.59L10.3 9.45l-7.72 7.72c-.78.78-.78 2.05 0 2.83L4 21.41c.39.39.9.59 1.41.59.51 0 1.02-.2 1.41-.59l7.78-7.78 2.81-2.81c.8-.78.8-2.07 0-2.86zM5.41 20L4 18.59l7.72-7.72 1.47 1.35L5.41 20z\"/>\n",
              "  </svg>\n",
              "      </button>\n",
              "      \n",
              "  <style>\n",
              "    .colab-df-container {\n",
              "      display:flex;\n",
              "      flex-wrap:wrap;\n",
              "      gap: 12px;\n",
              "    }\n",
              "\n",
              "    .colab-df-convert {\n",
              "      background-color: #E8F0FE;\n",
              "      border: none;\n",
              "      border-radius: 50%;\n",
              "      cursor: pointer;\n",
              "      display: none;\n",
              "      fill: #1967D2;\n",
              "      height: 32px;\n",
              "      padding: 0 0 0 0;\n",
              "      width: 32px;\n",
              "    }\n",
              "\n",
              "    .colab-df-convert:hover {\n",
              "      background-color: #E2EBFA;\n",
              "      box-shadow: 0px 1px 2px rgba(60, 64, 67, 0.3), 0px 1px 3px 1px rgba(60, 64, 67, 0.15);\n",
              "      fill: #174EA6;\n",
              "    }\n",
              "\n",
              "    [theme=dark] .colab-df-convert {\n",
              "      background-color: #3B4455;\n",
              "      fill: #D2E3FC;\n",
              "    }\n",
              "\n",
              "    [theme=dark] .colab-df-convert:hover {\n",
              "      background-color: #434B5C;\n",
              "      box-shadow: 0px 1px 3px 1px rgba(0, 0, 0, 0.15);\n",
              "      filter: drop-shadow(0px 1px 2px rgba(0, 0, 0, 0.3));\n",
              "      fill: #FFFFFF;\n",
              "    }\n",
              "  </style>\n",
              "\n",
              "      <script>\n",
              "        const buttonEl =\n",
              "          document.querySelector('#df-4f0cd541-a623-40c9-8a92-bfd4ed46341f button.colab-df-convert');\n",
              "        buttonEl.style.display =\n",
              "          google.colab.kernel.accessAllowed ? 'block' : 'none';\n",
              "\n",
              "        async function convertToInteractive(key) {\n",
              "          const element = document.querySelector('#df-4f0cd541-a623-40c9-8a92-bfd4ed46341f');\n",
              "          const dataTable =\n",
              "            await google.colab.kernel.invokeFunction('convertToInteractive',\n",
              "                                                     [key], {});\n",
              "          if (!dataTable) return;\n",
              "\n",
              "          const docLinkHtml = 'Like what you see? Visit the ' +\n",
              "            '<a target=\"_blank\" href=https://colab.research.google.com/notebooks/data_table.ipynb>data table notebook</a>'\n",
              "            + ' to learn more about interactive tables.';\n",
              "          element.innerHTML = '';\n",
              "          dataTable['output_type'] = 'display_data';\n",
              "          await google.colab.output.renderOutput(dataTable, element);\n",
              "          const docLink = document.createElement('div');\n",
              "          docLink.innerHTML = docLinkHtml;\n",
              "          element.appendChild(docLink);\n",
              "        }\n",
              "      </script>\n",
              "    </div>\n",
              "  </div>\n",
              "  "
            ]
          },
          "metadata": {},
          "execution_count": 10
        }
      ],
      "source": [
        "sampled_df = pd.DataFrame()\n",
        "sampled_value_counts = {k:0 for k,v in total_value_counts.items()}\n",
        "for df_path in dataframes_paths:\n",
        "  df = pd.read_csv(df_path, chunksize=chunksize, low_memory=False)\n",
        "  for chunk in df:\n",
        "    sample = sampling(chunk, sampled_value_counts)\n",
        "    sampled_value_counts = combine_dicts(sampled_value_counts, sample[' Label'].value_counts().to_dict())\n",
        "    sampled_df = pd.concat([sampled_df, sample], ignore_index=True)\n",
        "  print('one dataframe sampled!')\n",
        "sampled_df"
      ]
    },
    {
      "cell_type": "code",
      "execution_count": null,
      "metadata": {
        "id": "IFeVOp_ZyN8m",
        "colab": {
          "base_uri": "https://localhost:8080/",
          "height": 428
        },
        "outputId": "8bb76a9e-a4f3-44ae-e813-566f605ed87f"
      },
      "outputs": [
        {
          "output_type": "execute_result",
          "data": {
            "text/plain": [
              "<matplotlib.axes._subplots.AxesSubplot at 0x7fa12e24f3d0>"
            ]
          },
          "metadata": {},
          "execution_count": 11
        },
        {
          "output_type": "display_data",
          "data": {
            "text/plain": [
              "<Figure size 504x504 with 1 Axes>"
            ],
            "image/png": "[encoded data removed]"
          },
          "metadata": {}
        }
      ],
      "source": [
        "pd.DataFrame.from_dict(sampled_value_counts, orient='index', columns=['count']).plot.pie(y='count', figsize=(7,7))"
      ]
    },
    {
      "cell_type": "markdown",
      "metadata": {
        "id": "sBxzFgZeyByd"
      },
      "source": [
        "# Step 2: Pre-Processing"
      ]
    },
    {
      "cell_type": "markdown",
      "metadata": {
        "id": "oTcwZWV26uxc"
      },
      "source": [
        "##1"
      ]
    },
    {
      "cell_type": "code",
      "execution_count": null,
      "metadata": {
        "id": "gv6GL1ea6UGt",
        "colab": {
          "base_uri": "https://localhost:8080/"
        },
        "outputId": "f353dddd-a963-4823-bb5b-6c4324868608"
      },
      "outputs": [
        {
          "output_type": "execute_result",
          "data": {
            "text/plain": [
              "Flow Bytes/s    42\n",
              "dtype: int64"
            ]
          },
          "metadata": {},
          "execution_count": 12
        }
      ],
      "source": [
        "null_columns=sampled_df.columns[sampled_df.isna().any()]\n",
        "sampled_df[null_columns].isna().sum().sort_values(ascending=False)"
      ]
    },
    {
      "cell_type": "code",
      "execution_count": null,
      "metadata": {
        "id": "RA50Fp0Y63bV",
        "colab": {
          "base_uri": "https://localhost:8080/"
        },
        "outputId": "8cec741e-72f1-4aa2-862a-072a672cdfa5"
      },
      "outputs": [
        {
          "output_type": "stream",
          "name": "stdout",
          "text": [
            "before drop nulls: (115802, 88)\n",
            "after drop nulls: (115760, 88)\n"
          ]
        }
      ],
      "source": [
        "print(\"before drop nulls:\", sampled_df.shape)\n",
        "preprocessed_df = sampled_df.dropna()\n",
        "print(\"after drop nulls:\", preprocessed_df.shape)"
      ]
    },
    {
      "cell_type": "markdown",
      "metadata": {
        "id": "-dr4WIBp_E8z"
      },
      "source": [
        "## 2,3"
      ]
    },
    {
      "cell_type": "code",
      "execution_count": null,
      "metadata": {
        "id": "uHNMpcXGKDEV",
        "colab": {
          "base_uri": "https://localhost:8080/"
        },
        "outputId": "5a822150-8626-4d48-e901-39e8677ecf1a"
      },
      "outputs": [
        {
          "output_type": "execute_result",
          "data": {
            "text/plain": [
              " Fwd URG Flags           1\n",
              "Bwd Avg Bulk Rate        1\n",
              " Bwd Avg Packets/Bulk    1\n",
              " Bwd Avg Bytes/Bulk      1\n",
              " Fwd Avg Bulk Rate       1\n",
              " Fwd Avg Packets/Bulk    1\n",
              " Bwd URG Flags           1\n",
              "Fwd Avg Bytes/Bulk       1\n",
              " ECE Flag Count          1\n",
              " Bwd PSH Flags           1\n",
              "FIN Flag Count           1\n",
              " PSH Flag Count          1\n",
              " Inbound                 2\n",
              " SYN Flag Count          2\n",
              " CWE Flag Count          2\n",
              "dtype: int64"
            ]
          },
          "metadata": {},
          "execution_count": 14
        }
      ],
      "source": [
        "preprocessed_df.nunique().sort_values(ascending=True).head(15)"
      ]
    },
    {
      "cell_type": "code",
      "execution_count": null,
      "metadata": {
        "id": "i-YDhn7lKPCV",
        "colab": {
          "base_uri": "https://localhost:8080/"
        },
        "outputId": "0986d076-456b-44c8-fa66-c78eaeea8d7a"
      },
      "outputs": [
        {
          "output_type": "execute_result",
          "data": {
            "text/plain": [
              "Fwd PSH Flags       2\n",
              " CWE Flag Count     2\n",
              " URG Flag Count     2\n",
              " ACK Flag Count     2\n",
              " RST Flag Count     2\n",
              " SYN Flag Count     2\n",
              " Inbound            2\n",
              " Protocol           3\n",
              " Label              8\n",
              " Down/Up Ratio     15\n",
              "dtype: int64"
            ]
          },
          "metadata": {},
          "execution_count": 15
        }
      ],
      "source": [
        "temp = preprocessed_df.nunique()\n",
        "single_value_columns = [c for c in preprocessed_df.columns if temp[c] == 1]\n",
        "preprocessed_df = preprocessed_df.drop(columns=single_value_columns)\n",
        "preprocessed_df.nunique().sort_values(ascending=True).head(10)"
      ]
    },
    {
      "cell_type": "code",
      "execution_count": null,
      "metadata": {
        "id": "eJD1hwj-EC9a",
        "colab": {
          "base_uri": "https://localhost:8080/"
        },
        "outputId": "05c6f1de-e758-4fdd-d552-6c2ac8800ac7"
      },
      "outputs": [
        {
          "output_type": "execute_result",
          "data": {
            "text/plain": [
              " Timestamp           111291\n",
              "Flow ID               81455\n",
              "Unnamed: 0            71011\n",
              " Destination Port     40386\n",
              "Flow Bytes/s          38896\n",
              " Flow IAT Std         35847\n",
              " Flow IAT Mean        32589\n",
              " Flow Packets/s       32447\n",
              "Fwd Packets/s         32040\n",
              " Source Port          31635\n",
              " Flow Duration        30863\n",
              " Flow IAT Max         29552\n",
              " Bwd Packets/s        25077\n",
              " Fwd IAT Std          22232\n",
              " Fwd IAT Mean         20967\n",
              "dtype: int64"
            ]
          },
          "metadata": {},
          "execution_count": 16
        }
      ],
      "source": [
        "preprocessed_df.nunique().sort_values(ascending=False).head(15)"
      ]
    },
    {
      "cell_type": "code",
      "execution_count": null,
      "metadata": {
        "id": "YkAXcu1SE8qq",
        "colab": {
          "base_uri": "https://localhost:8080/"
        },
        "outputId": "e96f75ca-608f-4225-ef82-4b68f6f6b827"
      },
      "outputs": [
        {
          "output_type": "execute_result",
          "data": {
            "text/plain": [
              "Index(['Flow ID', ' Source IP', ' Destination IP', ' Timestamp',\n",
              "       'SimillarHTTP', ' Label'],\n",
              "      dtype='object')"
            ]
          },
          "metadata": {},
          "execution_count": 17
        }
      ],
      "source": [
        "preprocessed_df.columns[preprocessed_df.dtypes == object]"
      ]
    },
    {
      "cell_type": "code",
      "execution_count": null,
      "metadata": {
        "id": "_PeDLLd7G3kC",
        "colab": {
          "base_uri": "https://localhost:8080/",
          "height": 870
        },
        "outputId": "91a895a6-955f-4dbc-9c91-4bc9fd0bc820"
      },
      "outputs": [
        {
          "output_type": "execute_result",
          "data": {
            "text/plain": [
              "        Unnamed: 0                                 Flow ID     Source IP  \\\n",
              "19052           29  192.168.50.8-74.208.236.171-60320-80-6  192.168.50.8   \n",
              "19053           31  192.168.50.8-74.208.236.171-60321-80-6  192.168.50.8   \n",
              "19242          181  192.168.50.8-74.208.236.171-60346-80-6  192.168.50.8   \n",
              "19245          180  192.168.50.8-74.208.236.171-60347-80-6  192.168.50.8   \n",
              "19320          186  192.168.50.8-72.167.239.239-60372-80-6  192.168.50.8   \n",
              "...            ...                                     ...           ...   \n",
              "115731      168520   172.217.2.174-192.168.50.8-80-60005-6  192.168.50.8   \n",
              "115732      169251   172.217.2.174-192.168.50.8-80-60006-6  192.168.50.8   \n",
              "115745      149484   172.217.2.174-192.168.50.8-80-60013-6  192.168.50.8   \n",
              "115746      150220   172.217.2.174-192.168.50.8-80-60014-6  192.168.50.8   \n",
              "115774       84132      192.168.50.8-23.15.4.24-60023-80-6  192.168.50.8   \n",
              "\n",
              "         Source Port  Destination IP   Destination Port   Protocol  \\\n",
              "19052          60320  74.208.236.171                 80          6   \n",
              "19053          60321  74.208.236.171                 80          6   \n",
              "19242          60346  74.208.236.171                 80          6   \n",
              "19245          60347  74.208.236.171                 80          6   \n",
              "19320          60372  72.167.239.239                 80          6   \n",
              "...              ...             ...                ...        ...   \n",
              "115731         60005   172.217.2.174                 80          6   \n",
              "115732         60006   172.217.2.174                 80          6   \n",
              "115745         60013   172.217.2.174                 80          6   \n",
              "115746         60014   172.217.2.174                 80          6   \n",
              "115774         60023      23.15.4.24                 80          6   \n",
              "\n",
              "                         Timestamp   Flow Duration   Total Fwd Packets  ...  \\\n",
              "19052   2018-11-03 10:43:33.718282        15369071                  12  ...   \n",
              "19053   2018-11-03 10:43:33.725513        15601511                  10  ...   \n",
              "19242   2018-11-03 10:47:25.062156          478492                  15  ...   \n",
              "19245   2018-11-03 10:47:25.067864          472639                   7  ...   \n",
              "19320   2018-11-03 10:47:26.865652           71271                   6  ...   \n",
              "...                            ...             ...                 ...  ...   \n",
              "115731  2018-11-03 10:08:54.563370         1245411                  14  ...   \n",
              "115732  2018-11-03 10:08:54.563483          516201                  12  ...   \n",
              "115745  2018-11-03 10:08:54.780616          279099                   8  ...   \n",
              "115746  2018-11-03 10:08:54.780952         1147797                  14  ...   \n",
              "115774  2018-11-03 10:08:55.789095          229635                   8  ...   \n",
              "\n",
              "         Active Std   Active Max   Active Min   Idle Mean   Idle Std  \\\n",
              "19052           0.0     366188.0     366188.0  10013194.0        0.0   \n",
              "19053           0.0     800889.0     800889.0   9805271.0        0.0   \n",
              "19242           0.0          0.0          0.0         0.0        0.0   \n",
              "19245           0.0          0.0          0.0         0.0        0.0   \n",
              "19320           0.0          0.0          0.0         0.0        0.0   \n",
              "...             ...          ...          ...         ...        ...   \n",
              "115731          0.0          0.0          0.0         0.0        0.0   \n",
              "115732          0.0          0.0          0.0         0.0        0.0   \n",
              "115745          0.0          0.0          0.0         0.0        0.0   \n",
              "115746          0.0          0.0          0.0         0.0        0.0   \n",
              "115774          0.0          0.0          0.0         0.0        0.0   \n",
              "\n",
              "          Idle Max    Idle Min  \\\n",
              "19052   10013194.0  10013194.0   \n",
              "19053    9805271.0   9805271.0   \n",
              "19242          0.0         0.0   \n",
              "19245          0.0         0.0   \n",
              "19320          0.0         0.0   \n",
              "...            ...         ...   \n",
              "115731         0.0         0.0   \n",
              "115732         0.0         0.0   \n",
              "115745         0.0         0.0   \n",
              "115746         0.0         0.0   \n",
              "115774         0.0         0.0   \n",
              "\n",
              "                                             SimillarHTTP   Inbound   Label  \n",
              "19052   drmokhberi.ca/2018/04/18/installing-docker-ce-...         0  BENIGN  \n",
              "19053                           drmokhberi.ca/favicon.ico         0  BENIGN  \n",
              "19242                                   talebi.ca/resume/         0  BENIGN  \n",
              "19245   talebi.ca/wp-content/uploads/dynamic_avia/enfo...         0  BENIGN  \n",
              "19320                                   ocsp.godaddy.com/         0  BENIGN  \n",
              "...                                                   ...       ...     ...  \n",
              "115731                             ocsp.pki.goog/GTSGIAG3         0  BENIGN  \n",
              "115732                             ocsp.pki.goog/GTSGIAG3         0  BENIGN  \n",
              "115745                             ocsp.pki.goog/GTSGIAG3         0  BENIGN  \n",
              "115746                             ocsp.pki.goog/GTSGIAG3         0  BENIGN  \n",
              "115774                                 ocsp.comodoca.com/         0  BENIGN  \n",
              "\n",
              "[1946 rows x 76 columns]"
            ],
            "text/html": [
              "\n",
              "  <div id=\"df-d5911118-7e6e-4aec-bfcd-055ded002e6a\">\n",
              "    <div class=\"colab-df-container\">\n",
              "      <div>\n",
              "<style scoped>\n",
              "    .dataframe tbody tr th:only-of-type {\n",
              "        vertical-align: middle;\n",
              "    }\n",
              "\n",
              "    .dataframe tbody tr th {\n",
              "        vertical-align: top;\n",
              "    }\n",
              "\n",
              "    .dataframe thead th {\n",
              "        text-align: right;\n",
              "    }\n",
              "</style>\n",
              "<table border=\"1\" class=\"dataframe\">\n",
              "  <thead>\n",
              "    <tr style=\"text-align: right;\">\n",
              "      <th></th>\n",
              "      <th>Unnamed: 0</th>\n",
              "      <th>Flow ID</th>\n",
              "      <th>Source IP</th>\n",
              "      <th>Source Port</th>\n",
              "      <th>Destination IP</th>\n",
              "      <th>Destination Port</th>\n",
              "      <th>Protocol</th>\n",
              "      <th>Timestamp</th>\n",
              "      <th>Flow Duration</th>\n",
              "      <th>Total Fwd Packets</th>\n",
              "      <th>...</th>\n",
              "      <th>Active Std</th>\n",
              "      <th>Active Max</th>\n",
              "      <th>Active Min</th>\n",
              "      <th>Idle Mean</th>\n",
              "      <th>Idle Std</th>\n",
              "      <th>Idle Max</th>\n",
              "      <th>Idle Min</th>\n",
              "      <th>SimillarHTTP</th>\n",
              "      <th>Inbound</th>\n",
              "      <th>Label</th>\n",
              "    </tr>\n",
              "  </thead>\n",
              "  <tbody>\n",
              "    <tr>\n",
              "      <th>19052</th>\n",
              "      <td>29</td>\n",
              "      <td>192.168.50.8-74.208.236.171-60320-80-6</td>\n",
              "      <td>192.168.50.8</td>\n",
              "      <td>60320</td>\n",
              "      <td>74.208.236.171</td>\n",
              "      <td>80</td>\n",
              "      <td>6</td>\n",
              "      <td>2018-11-03 10:43:33.718282</td>\n",
              "      <td>15369071</td>\n",
              "      <td>12</td>\n",
              "      <td>...</td>\n",
              "      <td>0.0</td>\n",
              "      <td>366188.0</td>\n",
              "      <td>366188.0</td>\n",
              "      <td>10013194.0</td>\n",
              "      <td>0.0</td>\n",
              "      <td>10013194.0</td>\n",
              "      <td>10013194.0</td>\n",
              "      <td>drmokhberi.ca/2018/04/18/installing-docker-ce-...</td>\n",
              "      <td>0</td>\n",
              "      <td>BENIGN</td>\n",
              "    </tr>\n",
              "    <tr>\n",
              "      <th>19053</th>\n",
              "      <td>31</td>\n",
              "      <td>192.168.50.8-74.208.236.171-60321-80-6</td>\n",
              "      <td>192.168.50.8</td>\n",
              "      <td>60321</td>\n",
              "      <td>74.208.236.171</td>\n",
              "      <td>80</td>\n",
              "      <td>6</td>\n",
              "      <td>2018-11-03 10:43:33.725513</td>\n",
              "      <td>15601511</td>\n",
              "      <td>10</td>\n",
              "      <td>...</td>\n",
              "      <td>0.0</td>\n",
              "      <td>800889.0</td>\n",
              "      <td>800889.0</td>\n",
              "      <td>9805271.0</td>\n",
              "      <td>0.0</td>\n",
              "      <td>9805271.0</td>\n",
              "      <td>9805271.0</td>\n",
              "      <td>drmokhberi.ca/favicon.ico</td>\n",
              "      <td>0</td>\n",
              "      <td>BENIGN</td>\n",
              "    </tr>\n",
              "    <tr>\n",
              "      <th>19242</th>\n",
              "      <td>181</td>\n",
              "      <td>192.168.50.8-74.208.236.171-60346-80-6</td>\n",
              "      <td>192.168.50.8</td>\n",
              "      <td>60346</td>\n",
              "      <td>74.208.236.171</td>\n",
              "      <td>80</td>\n",
              "      <td>6</td>\n",
              "      <td>2018-11-03 10:47:25.062156</td>\n",
              "      <td>478492</td>\n",
              "      <td>15</td>\n",
              "      <td>...</td>\n",
              "      <td>0.0</td>\n",
              "      <td>0.0</td>\n",
              "      <td>0.0</td>\n",
              "      <td>0.0</td>\n",
              "      <td>0.0</td>\n",
              "      <td>0.0</td>\n",
              "      <td>0.0</td>\n",
              "      <td>talebi.ca/resume/</td>\n",
              "      <td>0</td>\n",
              "      <td>BENIGN</td>\n",
              "    </tr>\n",
              "    <tr>\n",
              "      <th>19245</th>\n",
              "      <td>180</td>\n",
              "      <td>192.168.50.8-74.208.236.171-60347-80-6</td>\n",
              "      <td>192.168.50.8</td>\n",
              "      <td>60347</td>\n",
              "      <td>74.208.236.171</td>\n",
              "      <td>80</td>\n",
              "      <td>6</td>\n",
              "      <td>2018-11-03 10:47:25.067864</td>\n",
              "      <td>472639</td>\n",
              "      <td>7</td>\n",
              "      <td>...</td>\n",
              "      <td>0.0</td>\n",
              "      <td>0.0</td>\n",
              "      <td>0.0</td>\n",
              "      <td>0.0</td>\n",
              "      <td>0.0</td>\n",
              "      <td>0.0</td>\n",
              "      <td>0.0</td>\n",
              "      <td>talebi.ca/wp-content/uploads/dynamic_avia/enfo...</td>\n",
              "      <td>0</td>\n",
              "      <td>BENIGN</td>\n",
              "    </tr>\n",
              "    <tr>\n",
              "      <th>19320</th>\n",
              "      <td>186</td>\n",
              "      <td>192.168.50.8-72.167.239.239-60372-80-6</td>\n",
              "      <td>192.168.50.8</td>\n",
              "      <td>60372</td>\n",
              "      <td>72.167.239.239</td>\n",
              "      <td>80</td>\n",
              "      <td>6</td>\n",
              "      <td>2018-11-03 10:47:26.865652</td>\n",
              "      <td>71271</td>\n",
              "      <td>6</td>\n",
              "      <td>...</td>\n",
              "      <td>0.0</td>\n",
              "      <td>0.0</td>\n",
              "      <td>0.0</td>\n",
              "      <td>0.0</td>\n",
              "      <td>0.0</td>\n",
              "      <td>0.0</td>\n",
              "      <td>0.0</td>\n",
              "      <td>ocsp.godaddy.com/</td>\n",
              "      <td>0</td>\n",
              "      <td>BENIGN</td>\n",
              "    </tr>\n",
              "    <tr>\n",
              "      <th>...</th>\n",
              "      <td>...</td>\n",
              "      <td>...</td>\n",
              "      <td>...</td>\n",
              "      <td>...</td>\n",
              "      <td>...</td>\n",
              "      <td>...</td>\n",
              "      <td>...</td>\n",
              "      <td>...</td>\n",
              "      <td>...</td>\n",
              "      <td>...</td>\n",
              "      <td>...</td>\n",
              "      <td>...</td>\n",
              "      <td>...</td>\n",
              "      <td>...</td>\n",
              "      <td>...</td>\n",
              "      <td>...</td>\n",
              "      <td>...</td>\n",
              "      <td>...</td>\n",
              "      <td>...</td>\n",
              "      <td>...</td>\n",
              "      <td>...</td>\n",
              "    </tr>\n",
              "    <tr>\n",
              "      <th>115731</th>\n",
              "      <td>168520</td>\n",
              "      <td>172.217.2.174-192.168.50.8-80-60005-6</td>\n",
              "      <td>192.168.50.8</td>\n",
              "      <td>60005</td>\n",
              "      <td>172.217.2.174</td>\n",
              "      <td>80</td>\n",
              "      <td>6</td>\n",
              "      <td>2018-11-03 10:08:54.563370</td>\n",
              "      <td>1245411</td>\n",
              "      <td>14</td>\n",
              "      <td>...</td>\n",
              "      <td>0.0</td>\n",
              "      <td>0.0</td>\n",
              "      <td>0.0</td>\n",
              "      <td>0.0</td>\n",
              "      <td>0.0</td>\n",
              "      <td>0.0</td>\n",
              "      <td>0.0</td>\n",
              "      <td>ocsp.pki.goog/GTSGIAG3</td>\n",
              "      <td>0</td>\n",
              "      <td>BENIGN</td>\n",
              "    </tr>\n",
              "    <tr>\n",
              "      <th>115732</th>\n",
              "      <td>169251</td>\n",
              "      <td>172.217.2.174-192.168.50.8-80-60006-6</td>\n",
              "      <td>192.168.50.8</td>\n",
              "      <td>60006</td>\n",
              "      <td>172.217.2.174</td>\n",
              "      <td>80</td>\n",
              "      <td>6</td>\n",
              "      <td>2018-11-03 10:08:54.563483</td>\n",
              "      <td>516201</td>\n",
              "      <td>12</td>\n",
              "      <td>...</td>\n",
              "      <td>0.0</td>\n",
              "      <td>0.0</td>\n",
              "      <td>0.0</td>\n",
              "      <td>0.0</td>\n",
              "      <td>0.0</td>\n",
              "      <td>0.0</td>\n",
              "      <td>0.0</td>\n",
              "      <td>ocsp.pki.goog/GTSGIAG3</td>\n",
              "      <td>0</td>\n",
              "      <td>BENIGN</td>\n",
              "    </tr>\n",
              "    <tr>\n",
              "      <th>115745</th>\n",
              "      <td>149484</td>\n",
              "      <td>172.217.2.174-192.168.50.8-80-60013-6</td>\n",
              "      <td>192.168.50.8</td>\n",
              "      <td>60013</td>\n",
              "      <td>172.217.2.174</td>\n",
              "      <td>80</td>\n",
              "      <td>6</td>\n",
              "      <td>2018-11-03 10:08:54.780616</td>\n",
              "      <td>279099</td>\n",
              "      <td>8</td>\n",
              "      <td>...</td>\n",
              "      <td>0.0</td>\n",
              "      <td>0.0</td>\n",
              "      <td>0.0</td>\n",
              "      <td>0.0</td>\n",
              "      <td>0.0</td>\n",
              "      <td>0.0</td>\n",
              "      <td>0.0</td>\n",
              "      <td>ocsp.pki.goog/GTSGIAG3</td>\n",
              "      <td>0</td>\n",
              "      <td>BENIGN</td>\n",
              "    </tr>\n",
              "    <tr>\n",
              "      <th>115746</th>\n",
              "      <td>150220</td>\n",
              "      <td>172.217.2.174-192.168.50.8-80-60014-6</td>\n",
              "      <td>192.168.50.8</td>\n",
              "      <td>60014</td>\n",
              "      <td>172.217.2.174</td>\n",
              "      <td>80</td>\n",
              "      <td>6</td>\n",
              "      <td>2018-11-03 10:08:54.780952</td>\n",
              "      <td>1147797</td>\n",
              "      <td>14</td>\n",
              "      <td>...</td>\n",
              "      <td>0.0</td>\n",
              "      <td>0.0</td>\n",
              "      <td>0.0</td>\n",
              "      <td>0.0</td>\n",
              "      <td>0.0</td>\n",
              "      <td>0.0</td>\n",
              "      <td>0.0</td>\n",
              "      <td>ocsp.pki.goog/GTSGIAG3</td>\n",
              "      <td>0</td>\n",
              "      <td>BENIGN</td>\n",
              "    </tr>\n",
              "    <tr>\n",
              "      <th>115774</th>\n",
              "      <td>84132</td>\n",
              "      <td>192.168.50.8-23.15.4.24-60023-80-6</td>\n",
              "      <td>192.168.50.8</td>\n",
              "      <td>60023</td>\n",
              "      <td>23.15.4.24</td>\n",
              "      <td>80</td>\n",
              "      <td>6</td>\n",
              "      <td>2018-11-03 10:08:55.789095</td>\n",
              "      <td>229635</td>\n",
              "      <td>8</td>\n",
              "      <td>...</td>\n",
              "      <td>0.0</td>\n",
              "      <td>0.0</td>\n",
              "      <td>0.0</td>\n",
              "      <td>0.0</td>\n",
              "      <td>0.0</td>\n",
              "      <td>0.0</td>\n",
              "      <td>0.0</td>\n",
              "      <td>ocsp.comodoca.com/</td>\n",
              "      <td>0</td>\n",
              "      <td>BENIGN</td>\n",
              "    </tr>\n",
              "  </tbody>\n",
              "</table>\n",
              "<p>1946 rows × 76 columns</p>\n",
              "</div>\n",
              "      <button class=\"colab-df-convert\" onclick=\"convertToInteractive('df-d5911118-7e6e-4aec-bfcd-055ded002e6a')\"\n",
              "              title=\"Convert this dataframe to an interactive table.\"\n",
              "              style=\"display:none;\">\n",
              "        \n",
              "  <svg xmlns=\"http://www.w3.org/2000/svg\" height=\"24px\"viewBox=\"0 0 24 24\"\n",
              "       width=\"24px\">\n",
              "    <path d=\"M0 0h24v24H0V0z\" fill=\"none\"/>\n",
              "    <path d=\"M18.56 5.44l.94 2.06.94-2.06 2.06-.94-2.06-.94-.94-2.06-.94 2.06-2.06.94zm-11 1L8.5 8.5l.94-2.06 2.06-.94-2.06-.94L8.5 2.5l-.94 2.06-2.06.94zm10 10l.94 2.06.94-2.06 2.06-.94-2.06-.94-.94-2.06-.94 2.06-2.06.94z\"/><path d=\"M17.41 7.96l-1.37-1.37c-.4-.4-.92-.59-1.43-.59-.52 0-1.04.2-1.43.59L10.3 9.45l-7.72 7.72c-.78.78-.78 2.05 0 2.83L4 21.41c.39.39.9.59 1.41.59.51 0 1.02-.2 1.41-.59l7.78-7.78 2.81-2.81c.8-.78.8-2.07 0-2.86zM5.41 20L4 18.59l7.72-7.72 1.47 1.35L5.41 20z\"/>\n",
              "  </svg>\n",
              "      </button>\n",
              "      \n",
              "  <style>\n",
              "    .colab-df-container {\n",
              "      display:flex;\n",
              "      flex-wrap:wrap;\n",
              "      gap: 12px;\n",
              "    }\n",
              "\n",
              "    .colab-df-convert {\n",
              "      background-color: #E8F0FE;\n",
              "      border: none;\n",
              "      border-radius: 50%;\n",
              "      cursor: pointer;\n",
              "      display: none;\n",
              "      fill: #1967D2;\n",
              "      height: 32px;\n",
              "      padding: 0 0 0 0;\n",
              "      width: 32px;\n",
              "    }\n",
              "\n",
              "    .colab-df-convert:hover {\n",
              "      background-color: #E2EBFA;\n",
              "      box-shadow: 0px 1px 2px rgba(60, 64, 67, 0.3), 0px 1px 3px 1px rgba(60, 64, 67, 0.15);\n",
              "      fill: #174EA6;\n",
              "    }\n",
              "\n",
              "    [theme=dark] .colab-df-convert {\n",
              "      background-color: #3B4455;\n",
              "      fill: #D2E3FC;\n",
              "    }\n",
              "\n",
              "    [theme=dark] .colab-df-convert:hover {\n",
              "      background-color: #434B5C;\n",
              "      box-shadow: 0px 1px 3px 1px rgba(0, 0, 0, 0.15);\n",
              "      filter: drop-shadow(0px 1px 2px rgba(0, 0, 0, 0.3));\n",
              "      fill: #FFFFFF;\n",
              "    }\n",
              "  </style>\n",
              "\n",
              "      <script>\n",
              "        const buttonEl =\n",
              "          document.querySelector('#df-d5911118-7e6e-4aec-bfcd-055ded002e6a button.colab-df-convert');\n",
              "        buttonEl.style.display =\n",
              "          google.colab.kernel.accessAllowed ? 'block' : 'none';\n",
              "\n",
              "        async function convertToInteractive(key) {\n",
              "          const element = document.querySelector('#df-d5911118-7e6e-4aec-bfcd-055ded002e6a');\n",
              "          const dataTable =\n",
              "            await google.colab.kernel.invokeFunction('convertToInteractive',\n",
              "                                                     [key], {});\n",
              "          if (!dataTable) return;\n",
              "\n",
              "          const docLinkHtml = 'Like what you see? Visit the ' +\n",
              "            '<a target=\"_blank\" href=https://colab.research.google.com/notebooks/data_table.ipynb>data table notebook</a>'\n",
              "            + ' to learn more about interactive tables.';\n",
              "          element.innerHTML = '';\n",
              "          dataTable['output_type'] = 'display_data';\n",
              "          await google.colab.output.renderOutput(dataTable, element);\n",
              "          const docLink = document.createElement('div');\n",
              "          docLink.innerHTML = docLinkHtml;\n",
              "          element.appendChild(docLink);\n",
              "        }\n",
              "      </script>\n",
              "    </div>\n",
              "  </div>\n",
              "  "
            ]
          },
          "metadata": {},
          "execution_count": 18
        }
      ],
      "source": [
        "preprocessed_df[preprocessed_df['SimillarHTTP'] != '0']"
      ]
    },
    {
      "cell_type": "code",
      "execution_count": null,
      "metadata": {
        "id": "I4M4vwEEF8m2"
      },
      "outputs": [],
      "source": [
        "preprocessed_df = preprocessed_df.drop(columns=[\n",
        "                                                ' Timestamp',\n",
        "                                                'Flow ID',\n",
        "                                                'Unnamed: 0',\n",
        "                                                ' Destination Port',\n",
        "                                                ' Source Port',    \n",
        "                                                ' Source IP',\n",
        "                                                ' Destination IP',\n",
        "                                                'SimillarHTTP',\n",
        "])"
      ]
    },
    {
      "cell_type": "markdown",
      "metadata": {
        "id": "FOsVIZUdJwuy"
      },
      "source": [
        "## 4"
      ]
    },
    {
      "cell_type": "code",
      "execution_count": null,
      "metadata": {
        "id": "Jd8rHaY4G7Cl",
        "colab": {
          "base_uri": "https://localhost:8080/"
        },
        "outputId": "acbfa565-034d-4c7f-a86d-973ade645f8e"
      },
      "outputs": [
        {
          "output_type": "execute_result",
          "data": {
            "text/plain": [
              "array(['UDP', 'MSSQL', 'BENIGN', 'Portmap', 'Syn', 'UDPLag', 'LDAP',\n",
              "       'NetBIOS'], dtype=object)"
            ]
          },
          "metadata": {},
          "execution_count": 20
        }
      ],
      "source": [
        "preprocessed_df[' Label'].unique()"
      ]
    },
    {
      "cell_type": "code",
      "execution_count": null,
      "metadata": {
        "id": "hfvNEdZkHxC_"
      },
      "outputs": [],
      "source": [
        "preprocessed_df[' Label'] = preprocessed_df[' Label'].replace(\n",
        "    ['NetBIOS', 'BENIGN', 'MSSQL', 'LDAP', 'Portmap', 'Syn', 'UDP','UDPLag'],\n",
        "     [1, 0, 1, 1, 1, 1, 1, 1])"
      ]
    },
    {
      "cell_type": "code",
      "execution_count": null,
      "metadata": {
        "id": "wshX1mxgJ0uY",
        "colab": {
          "base_uri": "https://localhost:8080/"
        },
        "outputId": "bc09e938-fbcb-4db3-da0f-e1dc876661f9"
      },
      "outputs": [
        {
          "output_type": "execute_result",
          "data": {
            "text/plain": [
              "array([dtype('int64'), dtype('float64')], dtype=object)"
            ]
          },
          "metadata": {},
          "execution_count": 22
        }
      ],
      "source": [
        "preprocessed_df.dtypes.unique()"
      ]
    },
    {
      "cell_type": "markdown",
      "metadata": {
        "id": "t-kardv4KCnK"
      },
      "source": [
        "## 5"
      ]
    },
    {
      "cell_type": "code",
      "execution_count": null,
      "metadata": {
        "id": "sHNcJOyKpjiS",
        "colab": {
          "base_uri": "https://localhost:8080/"
        },
        "outputId": "f1066af3-b7ff-4f4b-f307-b404d4018acb"
      },
      "outputs": [
        {
          "output_type": "stream",
          "name": "stdout",
          "text": [
            "Flow Bytes/s 3009\n",
            " Flow Packets/s 3009\n"
          ]
        }
      ],
      "source": [
        "for c in list(preprocessed_df.columns):\n",
        "  temp = np.isinf(preprocessed_df[c]).values.sum()\n",
        "  if temp>0:\n",
        "    print(c, temp)"
      ]
    },
    {
      "cell_type": "code",
      "execution_count": null,
      "metadata": {
        "id": "yXpFKDs6p1Mx",
        "colab": {
          "base_uri": "https://localhost:8080/"
        },
        "outputId": "fd7eea9e-52fc-4c5f-bc83-68cb63dd7512"
      },
      "outputs": [
        {
          "output_type": "stream",
          "name": "stdout",
          "text": [
            "2944000000.0\n",
            "3000000.0\n"
          ]
        }
      ],
      "source": [
        "infinite_columns = ['Flow Bytes/s', ' Flow Packets/s']\n",
        "for c in infinite_columns:\n",
        "  temp = preprocessed_df[preprocessed_df[c] != float('inf')]\n",
        "  c_max = np.max(temp[c])\n",
        "  print(c_max)\n",
        "  preprocessed_df.loc[preprocessed_df[c] == float('inf'), c] = c_max"
      ]
    },
    {
      "cell_type": "code",
      "execution_count": 64,
      "metadata": {
        "id": "K86ifFHRJ6EV"
      },
      "outputs": [],
      "source": [
        "def z_score(df):\n",
        "  df_std = df.copy()\n",
        "  for column in df_std.columns:\n",
        "    if df_std[column].std() != 0:\n",
        "      df_std[column] = (df_std[column] - df_std[column].mean()) / df_std[column].std()\n",
        "    else:\n",
        "      df_std[column] = 0\n",
        "  return df_std"
      ]
    },
    {
      "cell_type": "code",
      "execution_count": null,
      "metadata": {
        "id": "lRKN9xN-KVC6"
      },
      "outputs": [],
      "source": [
        "normalized_df = z_score(preprocessed_df.loc[:, preprocessed_df.columns != ' Label'])\n",
        "normalized_df[' Label'] = preprocessed_df[' Label']"
      ]
    },
    {
      "cell_type": "code",
      "execution_count": null,
      "metadata": {
        "id": "m8kspRYbKbhN",
        "colab": {
          "base_uri": "https://localhost:8080/",
          "height": 540
        },
        "outputId": "37aea7d6-e6e9-4404-aec8-7324acd29daa"
      },
      "outputs": [
        {
          "output_type": "execute_result",
          "data": {
            "text/plain": [
              "         Protocol   Flow Duration   Total Fwd Packets  \\\n",
              "20761   -1.109530        0.120051            0.023473   \n",
              "21508   -1.109530        0.140155            0.023473   \n",
              "21657   -1.109530        0.146496            0.042497   \n",
              "21671   -1.109530       -0.061434            0.004449   \n",
              "21713   -1.109530       -0.059879            0.000644   \n",
              "...           ...             ...                 ...   \n",
              "111941  -1.109530        2.648586            0.122399   \n",
              "111967   0.873705        1.981363            0.034888   \n",
              "112035  -1.109530        4.274315            0.126204   \n",
              "112040  -1.109530        3.095587            0.103375   \n",
              "112041   0.873705        3.040953            0.110985   \n",
              "\n",
              "         Total Backward Packets  Total Length of Fwd Packets  \\\n",
              "20761                  0.064301                     4.327947   \n",
              "21508                  0.026529                     5.127973   \n",
              "21657                  0.102073                     7.810488   \n",
              "21671                  0.064301                     2.888435   \n",
              "21713                  0.045415                     1.687398   \n",
              "...                         ...                          ...   \n",
              "111941                 0.309820                     4.780251   \n",
              "111967                 0.102073                    -0.144466   \n",
              "112035                 0.536453                     1.001948   \n",
              "112040                 0.385364                     0.272533   \n",
              "112041                -0.049015                     0.276529   \n",
              "\n",
              "         Total Length of Bwd Packets   Fwd Packet Length Max  \\\n",
              "20761                      -0.011855                5.455945   \n",
              "21508                      -0.011919                5.455945   \n",
              "21657                      -0.002556                6.025396   \n",
              "21671                      -0.016410                6.357400   \n",
              "21713                      -0.016473                5.636656   \n",
              "...                              ...                     ...   \n",
              "111941                      0.023812                5.119737   \n",
              "111967                     -0.010411               -0.606291   \n",
              "112035                     -0.006984                1.255456   \n",
              "112040                     -0.010632               -0.312110   \n",
              "112041                     -0.021281               -0.574772   \n",
              "\n",
              "         Fwd Packet Length Min   Fwd Packet Length Mean  \\\n",
              "20761                -0.587925                 2.015423   \n",
              "21508                -0.587925                 2.473392   \n",
              "21657                -0.587925                 2.715659   \n",
              "21671                -0.587925                 2.340358   \n",
              "21713                -0.587925                 1.490287   \n",
              "...                        ...                      ...   \n",
              "111941               -0.602672                 0.326797   \n",
              "111967               -0.524021                -0.563941   \n",
              "112035               -0.587925                -0.400478   \n",
              "112040               -0.587925                -0.516629   \n",
              "112041               -0.479779                -0.523045   \n",
              "\n",
              "         Fwd Packet Length Std  ...  Active Mean   Active Std   Active Max  \\\n",
              "20761                11.585176  ...    -0.065567    -0.105794    -0.098753   \n",
              "21508                10.286713  ...     0.038179    -0.105794    -0.023757   \n",
              "21657                11.470740  ...    -0.118361    -0.105794    -0.136917   \n",
              "21671                14.005419  ...    -0.071479    -0.105794    -0.103027   \n",
              "21713                11.718199  ...    -0.118361    -0.105794    -0.136917   \n",
              "...                        ...  ...          ...          ...          ...   \n",
              "111941                7.567375  ...     0.786649     1.131440     0.840256   \n",
              "111967               -0.250197  ...     0.060891     0.023907     0.026517   \n",
              "112035                1.777362  ...     2.169303     7.233486     5.579235   \n",
              "112040                0.397605  ...     0.174838     0.093718     0.123372   \n",
              "112041               -0.263041  ...     3.249931    -0.065386     2.308491   \n",
              "\n",
              "         Active Min  Idle Mean   Idle Std   Idle Max   Idle Min   Inbound  \\\n",
              "20761     -0.035784   0.672717  -0.105310   0.616749   0.712516 -1.226328   \n",
              "21508      0.077932   0.773040  -0.105310   0.711363   0.816119 -1.226328   \n",
              "21657     -0.093652  -0.232918  -0.105310  -0.237350  -0.222728 -1.226328   \n",
              "21671     -0.042265   0.278359  -0.105310   0.244832   0.305265 -1.226328   \n",
              "21713     -0.093652  -0.232918  -0.105310  -0.237350  -0.222728 -1.226328   \n",
              "...             ...        ...        ...        ...        ...       ...   \n",
              "111941     0.408621   3.326441  17.629946   5.372320   0.986104 -1.226328   \n",
              "111967     0.051490   2.547082  16.649188   4.512728   0.317683 -1.226328   \n",
              "112035     0.278909   2.475785  12.456178   5.392282   0.561828 -1.226328   \n",
              "112040     0.099191   2.529068  14.135937   5.321488   0.988991 -1.226328   \n",
              "112041     3.582335   3.642937  16.820411   5.567973   1.425550  0.815435   \n",
              "\n",
              "         Label  \n",
              "20761        0  \n",
              "21508        0  \n",
              "21657        0  \n",
              "21671        0  \n",
              "21713        0  \n",
              "...        ...  \n",
              "111941       0  \n",
              "111967       0  \n",
              "112035       0  \n",
              "112040       0  \n",
              "112041       0  \n",
              "\n",
              "[898 rows x 68 columns]"
            ],
            "text/html": [
              "\n",
              "  <div id=\"df-cc63a40f-4777-4d25-8238-e66124ba3a36\">\n",
              "    <div class=\"colab-df-container\">\n",
              "      <div>\n",
              "<style scoped>\n",
              "    .dataframe tbody tr th:only-of-type {\n",
              "        vertical-align: middle;\n",
              "    }\n",
              "\n",
              "    .dataframe tbody tr th {\n",
              "        vertical-align: top;\n",
              "    }\n",
              "\n",
              "    .dataframe thead th {\n",
              "        text-align: right;\n",
              "    }\n",
              "</style>\n",
              "<table border=\"1\" class=\"dataframe\">\n",
              "  <thead>\n",
              "    <tr style=\"text-align: right;\">\n",
              "      <th></th>\n",
              "      <th>Protocol</th>\n",
              "      <th>Flow Duration</th>\n",
              "      <th>Total Fwd Packets</th>\n",
              "      <th>Total Backward Packets</th>\n",
              "      <th>Total Length of Fwd Packets</th>\n",
              "      <th>Total Length of Bwd Packets</th>\n",
              "      <th>Fwd Packet Length Max</th>\n",
              "      <th>Fwd Packet Length Min</th>\n",
              "      <th>Fwd Packet Length Mean</th>\n",
              "      <th>Fwd Packet Length Std</th>\n",
              "      <th>...</th>\n",
              "      <th>Active Mean</th>\n",
              "      <th>Active Std</th>\n",
              "      <th>Active Max</th>\n",
              "      <th>Active Min</th>\n",
              "      <th>Idle Mean</th>\n",
              "      <th>Idle Std</th>\n",
              "      <th>Idle Max</th>\n",
              "      <th>Idle Min</th>\n",
              "      <th>Inbound</th>\n",
              "      <th>Label</th>\n",
              "    </tr>\n",
              "  </thead>\n",
              "  <tbody>\n",
              "    <tr>\n",
              "      <th>20761</th>\n",
              "      <td>-1.109530</td>\n",
              "      <td>0.120051</td>\n",
              "      <td>0.023473</td>\n",
              "      <td>0.064301</td>\n",
              "      <td>4.327947</td>\n",
              "      <td>-0.011855</td>\n",
              "      <td>5.455945</td>\n",
              "      <td>-0.587925</td>\n",
              "      <td>2.015423</td>\n",
              "      <td>11.585176</td>\n",
              "      <td>...</td>\n",
              "      <td>-0.065567</td>\n",
              "      <td>-0.105794</td>\n",
              "      <td>-0.098753</td>\n",
              "      <td>-0.035784</td>\n",
              "      <td>0.672717</td>\n",
              "      <td>-0.105310</td>\n",
              "      <td>0.616749</td>\n",
              "      <td>0.712516</td>\n",
              "      <td>-1.226328</td>\n",
              "      <td>0</td>\n",
              "    </tr>\n",
              "    <tr>\n",
              "      <th>21508</th>\n",
              "      <td>-1.109530</td>\n",
              "      <td>0.140155</td>\n",
              "      <td>0.023473</td>\n",
              "      <td>0.026529</td>\n",
              "      <td>5.127973</td>\n",
              "      <td>-0.011919</td>\n",
              "      <td>5.455945</td>\n",
              "      <td>-0.587925</td>\n",
              "      <td>2.473392</td>\n",
              "      <td>10.286713</td>\n",
              "      <td>...</td>\n",
              "      <td>0.038179</td>\n",
              "      <td>-0.105794</td>\n",
              "      <td>-0.023757</td>\n",
              "      <td>0.077932</td>\n",
              "      <td>0.773040</td>\n",
              "      <td>-0.105310</td>\n",
              "      <td>0.711363</td>\n",
              "      <td>0.816119</td>\n",
              "      <td>-1.226328</td>\n",
              "      <td>0</td>\n",
              "    </tr>\n",
              "    <tr>\n",
              "      <th>21657</th>\n",
              "      <td>-1.109530</td>\n",
              "      <td>0.146496</td>\n",
              "      <td>0.042497</td>\n",
              "      <td>0.102073</td>\n",
              "      <td>7.810488</td>\n",
              "      <td>-0.002556</td>\n",
              "      <td>6.025396</td>\n",
              "      <td>-0.587925</td>\n",
              "      <td>2.715659</td>\n",
              "      <td>11.470740</td>\n",
              "      <td>...</td>\n",
              "      <td>-0.118361</td>\n",
              "      <td>-0.105794</td>\n",
              "      <td>-0.136917</td>\n",
              "      <td>-0.093652</td>\n",
              "      <td>-0.232918</td>\n",
              "      <td>-0.105310</td>\n",
              "      <td>-0.237350</td>\n",
              "      <td>-0.222728</td>\n",
              "      <td>-1.226328</td>\n",
              "      <td>0</td>\n",
              "    </tr>\n",
              "    <tr>\n",
              "      <th>21671</th>\n",
              "      <td>-1.109530</td>\n",
              "      <td>-0.061434</td>\n",
              "      <td>0.004449</td>\n",
              "      <td>0.064301</td>\n",
              "      <td>2.888435</td>\n",
              "      <td>-0.016410</td>\n",
              "      <td>6.357400</td>\n",
              "      <td>-0.587925</td>\n",
              "      <td>2.340358</td>\n",
              "      <td>14.005419</td>\n",
              "      <td>...</td>\n",
              "      <td>-0.071479</td>\n",
              "      <td>-0.105794</td>\n",
              "      <td>-0.103027</td>\n",
              "      <td>-0.042265</td>\n",
              "      <td>0.278359</td>\n",
              "      <td>-0.105310</td>\n",
              "      <td>0.244832</td>\n",
              "      <td>0.305265</td>\n",
              "      <td>-1.226328</td>\n",
              "      <td>0</td>\n",
              "    </tr>\n",
              "    <tr>\n",
              "      <th>21713</th>\n",
              "      <td>-1.109530</td>\n",
              "      <td>-0.059879</td>\n",
              "      <td>0.000644</td>\n",
              "      <td>0.045415</td>\n",
              "      <td>1.687398</td>\n",
              "      <td>-0.016473</td>\n",
              "      <td>5.636656</td>\n",
              "      <td>-0.587925</td>\n",
              "      <td>1.490287</td>\n",
              "      <td>11.718199</td>\n",
              "      <td>...</td>\n",
              "      <td>-0.118361</td>\n",
              "      <td>-0.105794</td>\n",
              "      <td>-0.136917</td>\n",
              "      <td>-0.093652</td>\n",
              "      <td>-0.232918</td>\n",
              "      <td>-0.105310</td>\n",
              "      <td>-0.237350</td>\n",
              "      <td>-0.222728</td>\n",
              "      <td>-1.226328</td>\n",
              "      <td>0</td>\n",
              "    </tr>\n",
              "    <tr>\n",
              "      <th>...</th>\n",
              "      <td>...</td>\n",
              "      <td>...</td>\n",
              "      <td>...</td>\n",
              "      <td>...</td>\n",
              "      <td>...</td>\n",
              "      <td>...</td>\n",
              "      <td>...</td>\n",
              "      <td>...</td>\n",
              "      <td>...</td>\n",
              "      <td>...</td>\n",
              "      <td>...</td>\n",
              "      <td>...</td>\n",
              "      <td>...</td>\n",
              "      <td>...</td>\n",
              "      <td>...</td>\n",
              "      <td>...</td>\n",
              "      <td>...</td>\n",
              "      <td>...</td>\n",
              "      <td>...</td>\n",
              "      <td>...</td>\n",
              "      <td>...</td>\n",
              "    </tr>\n",
              "    <tr>\n",
              "      <th>111941</th>\n",
              "      <td>-1.109530</td>\n",
              "      <td>2.648586</td>\n",
              "      <td>0.122399</td>\n",
              "      <td>0.309820</td>\n",
              "      <td>4.780251</td>\n",
              "      <td>0.023812</td>\n",
              "      <td>5.119737</td>\n",
              "      <td>-0.602672</td>\n",
              "      <td>0.326797</td>\n",
              "      <td>7.567375</td>\n",
              "      <td>...</td>\n",
              "      <td>0.786649</td>\n",
              "      <td>1.131440</td>\n",
              "      <td>0.840256</td>\n",
              "      <td>0.408621</td>\n",
              "      <td>3.326441</td>\n",
              "      <td>17.629946</td>\n",
              "      <td>5.372320</td>\n",
              "      <td>0.986104</td>\n",
              "      <td>-1.226328</td>\n",
              "      <td>0</td>\n",
              "    </tr>\n",
              "    <tr>\n",
              "      <th>111967</th>\n",
              "      <td>0.873705</td>\n",
              "      <td>1.981363</td>\n",
              "      <td>0.034888</td>\n",
              "      <td>0.102073</td>\n",
              "      <td>-0.144466</td>\n",
              "      <td>-0.010411</td>\n",
              "      <td>-0.606291</td>\n",
              "      <td>-0.524021</td>\n",
              "      <td>-0.563941</td>\n",
              "      <td>-0.250197</td>\n",
              "      <td>...</td>\n",
              "      <td>0.060891</td>\n",
              "      <td>0.023907</td>\n",
              "      <td>0.026517</td>\n",
              "      <td>0.051490</td>\n",
              "      <td>2.547082</td>\n",
              "      <td>16.649188</td>\n",
              "      <td>4.512728</td>\n",
              "      <td>0.317683</td>\n",
              "      <td>-1.226328</td>\n",
              "      <td>0</td>\n",
              "    </tr>\n",
              "    <tr>\n",
              "      <th>112035</th>\n",
              "      <td>-1.109530</td>\n",
              "      <td>4.274315</td>\n",
              "      <td>0.126204</td>\n",
              "      <td>0.536453</td>\n",
              "      <td>1.001948</td>\n",
              "      <td>-0.006984</td>\n",
              "      <td>1.255456</td>\n",
              "      <td>-0.587925</td>\n",
              "      <td>-0.400478</td>\n",
              "      <td>1.777362</td>\n",
              "      <td>...</td>\n",
              "      <td>2.169303</td>\n",
              "      <td>7.233486</td>\n",
              "      <td>5.579235</td>\n",
              "      <td>0.278909</td>\n",
              "      <td>2.475785</td>\n",
              "      <td>12.456178</td>\n",
              "      <td>5.392282</td>\n",
              "      <td>0.561828</td>\n",
              "      <td>-1.226328</td>\n",
              "      <td>0</td>\n",
              "    </tr>\n",
              "    <tr>\n",
              "      <th>112040</th>\n",
              "      <td>-1.109530</td>\n",
              "      <td>3.095587</td>\n",
              "      <td>0.103375</td>\n",
              "      <td>0.385364</td>\n",
              "      <td>0.272533</td>\n",
              "      <td>-0.010632</td>\n",
              "      <td>-0.312110</td>\n",
              "      <td>-0.587925</td>\n",
              "      <td>-0.516629</td>\n",
              "      <td>0.397605</td>\n",
              "      <td>...</td>\n",
              "      <td>0.174838</td>\n",
              "      <td>0.093718</td>\n",
              "      <td>0.123372</td>\n",
              "      <td>0.099191</td>\n",
              "      <td>2.529068</td>\n",
              "      <td>14.135937</td>\n",
              "      <td>5.321488</td>\n",
              "      <td>0.988991</td>\n",
              "      <td>-1.226328</td>\n",
              "      <td>0</td>\n",
              "    </tr>\n",
              "    <tr>\n",
              "      <th>112041</th>\n",
              "      <td>0.873705</td>\n",
              "      <td>3.040953</td>\n",
              "      <td>0.110985</td>\n",
              "      <td>-0.049015</td>\n",
              "      <td>0.276529</td>\n",
              "      <td>-0.021281</td>\n",
              "      <td>-0.574772</td>\n",
              "      <td>-0.479779</td>\n",
              "      <td>-0.523045</td>\n",
              "      <td>-0.263041</td>\n",
              "      <td>...</td>\n",
              "      <td>3.249931</td>\n",
              "      <td>-0.065386</td>\n",
              "      <td>2.308491</td>\n",
              "      <td>3.582335</td>\n",
              "      <td>3.642937</td>\n",
              "      <td>16.820411</td>\n",
              "      <td>5.567973</td>\n",
              "      <td>1.425550</td>\n",
              "      <td>0.815435</td>\n",
              "      <td>0</td>\n",
              "    </tr>\n",
              "  </tbody>\n",
              "</table>\n",
              "<p>898 rows × 68 columns</p>\n",
              "</div>\n",
              "      <button class=\"colab-df-convert\" onclick=\"convertToInteractive('df-cc63a40f-4777-4d25-8238-e66124ba3a36')\"\n",
              "              title=\"Convert this dataframe to an interactive table.\"\n",
              "              style=\"display:none;\">\n",
              "        \n",
              "  <svg xmlns=\"http://www.w3.org/2000/svg\" height=\"24px\"viewBox=\"0 0 24 24\"\n",
              "       width=\"24px\">\n",
              "    <path d=\"M0 0h24v24H0V0z\" fill=\"none\"/>\n",
              "    <path d=\"M18.56 5.44l.94 2.06.94-2.06 2.06-.94-2.06-.94-.94-2.06-.94 2.06-2.06.94zm-11 1L8.5 8.5l.94-2.06 2.06-.94-2.06-.94L8.5 2.5l-.94 2.06-2.06.94zm10 10l.94 2.06.94-2.06 2.06-.94-2.06-.94-.94-2.06-.94 2.06-2.06.94z\"/><path d=\"M17.41 7.96l-1.37-1.37c-.4-.4-.92-.59-1.43-.59-.52 0-1.04.2-1.43.59L10.3 9.45l-7.72 7.72c-.78.78-.78 2.05 0 2.83L4 21.41c.39.39.9.59 1.41.59.51 0 1.02-.2 1.41-.59l7.78-7.78 2.81-2.81c.8-.78.8-2.07 0-2.86zM5.41 20L4 18.59l7.72-7.72 1.47 1.35L5.41 20z\"/>\n",
              "  </svg>\n",
              "      </button>\n",
              "      \n",
              "  <style>\n",
              "    .colab-df-container {\n",
              "      display:flex;\n",
              "      flex-wrap:wrap;\n",
              "      gap: 12px;\n",
              "    }\n",
              "\n",
              "    .colab-df-convert {\n",
              "      background-color: #E8F0FE;\n",
              "      border: none;\n",
              "      border-radius: 50%;\n",
              "      cursor: pointer;\n",
              "      display: none;\n",
              "      fill: #1967D2;\n",
              "      height: 32px;\n",
              "      padding: 0 0 0 0;\n",
              "      width: 32px;\n",
              "    }\n",
              "\n",
              "    .colab-df-convert:hover {\n",
              "      background-color: #E2EBFA;\n",
              "      box-shadow: 0px 1px 2px rgba(60, 64, 67, 0.3), 0px 1px 3px 1px rgba(60, 64, 67, 0.15);\n",
              "      fill: #174EA6;\n",
              "    }\n",
              "\n",
              "    [theme=dark] .colab-df-convert {\n",
              "      background-color: #3B4455;\n",
              "      fill: #D2E3FC;\n",
              "    }\n",
              "\n",
              "    [theme=dark] .colab-df-convert:hover {\n",
              "      background-color: #434B5C;\n",
              "      box-shadow: 0px 1px 3px 1px rgba(0, 0, 0, 0.15);\n",
              "      filter: drop-shadow(0px 1px 2px rgba(0, 0, 0, 0.3));\n",
              "      fill: #FFFFFF;\n",
              "    }\n",
              "  </style>\n",
              "\n",
              "      <script>\n",
              "        const buttonEl =\n",
              "          document.querySelector('#df-cc63a40f-4777-4d25-8238-e66124ba3a36 button.colab-df-convert');\n",
              "        buttonEl.style.display =\n",
              "          google.colab.kernel.accessAllowed ? 'block' : 'none';\n",
              "\n",
              "        async function convertToInteractive(key) {\n",
              "          const element = document.querySelector('#df-cc63a40f-4777-4d25-8238-e66124ba3a36');\n",
              "          const dataTable =\n",
              "            await google.colab.kernel.invokeFunction('convertToInteractive',\n",
              "                                                     [key], {});\n",
              "          if (!dataTable) return;\n",
              "\n",
              "          const docLinkHtml = 'Like what you see? Visit the ' +\n",
              "            '<a target=\"_blank\" href=https://colab.research.google.com/notebooks/data_table.ipynb>data table notebook</a>'\n",
              "            + ' to learn more about interactive tables.';\n",
              "          element.innerHTML = '';\n",
              "          dataTable['output_type'] = 'display_data';\n",
              "          await google.colab.output.renderOutput(dataTable, element);\n",
              "          const docLink = document.createElement('div');\n",
              "          docLink.innerHTML = docLinkHtml;\n",
              "          element.appendChild(docLink);\n",
              "        }\n",
              "      </script>\n",
              "    </div>\n",
              "  </div>\n",
              "  "
            ]
          },
          "metadata": {},
          "execution_count": 27
        }
      ],
      "source": [
        "outliers = pd.DataFrame()\n",
        "for c in normalized_df.columns:\n",
        "  temp = normalized_df[normalized_df[c]>10]\n",
        "  outliers = pd.concat([outliers, temp])\n",
        "  temp = normalized_df[normalized_df[c]<-10]\n",
        "  outliers = pd.concat([outliers, temp])\n",
        "\n",
        "outliers = outliers.drop_duplicates(keep=False)\n",
        "outliers"
      ]
    },
    {
      "cell_type": "code",
      "execution_count": null,
      "metadata": {
        "id": "MqWghVXpKmgu",
        "colab": {
          "base_uri": "https://localhost:8080/",
          "height": 540
        },
        "outputId": "0ae36221-f947-429a-b1c3-5dd35d043482"
      },
      "outputs": [
        {
          "output_type": "execute_result",
          "data": {
            "text/plain": [
              "         Protocol   Flow Duration   Total Fwd Packets  \\\n",
              "0        0.873705       -0.271696           -0.018380   \n",
              "1        0.873705       -0.231240            0.050107   \n",
              "2        0.873705       -0.262933           -0.003161   \n",
              "3        0.873705       -0.267384           -0.010771   \n",
              "4        0.873705       -0.271698           -0.018380   \n",
              "...           ...             ...                 ...   \n",
              "115797  -1.109530       -0.270014           -0.022185   \n",
              "115798  -1.109530       -0.269435           -0.022185   \n",
              "115799  -1.109530       -0.271692           -0.022185   \n",
              "115800  -1.109530       -0.271692           -0.022185   \n",
              "115801  -1.109530       -0.269153           -0.010771   \n",
              "\n",
              "         Total Backward Packets  Total Length of Fwd Packets  \\\n",
              "0                     -0.049015                    -0.109161   \n",
              "1                     -0.049015                     2.089076   \n",
              "2                     -0.049015                     0.372452   \n",
              "3                     -0.049015                     0.142637   \n",
              "4                     -0.049015                    -0.073190   \n",
              "...                         ...                          ...   \n",
              "115797                -0.039572                    -0.320991   \n",
              "115798                -0.039572                    -0.320991   \n",
              "115799                -0.030129                    -0.320991   \n",
              "115800                -0.030129                    -0.320991   \n",
              "115801                -0.030129                    -0.288351   \n",
              "\n",
              "         Total Length of Bwd Packets   Fwd Packet Length Max  \\\n",
              "0                          -0.021281               -0.005321   \n",
              "1                          -0.021281                0.162783   \n",
              "2                          -0.021281                0.145973   \n",
              "3                          -0.021281                0.095541   \n",
              "4                          -0.021281                0.108149   \n",
              "...                              ...                     ...   \n",
              "115797                     -0.021249               -0.667229   \n",
              "115798                     -0.021249               -0.667229   \n",
              "115799                     -0.021218               -0.667229   \n",
              "115800                     -0.021218               -0.667229   \n",
              "115801                     -0.020796               -0.583177   \n",
              "\n",
              "         Fwd Packet Length Min   Fwd Packet Length Mean  \\\n",
              "0                     0.186300                 0.148656   \n",
              "1                     0.186300                 0.250526   \n",
              "2                     0.186300                 0.215578   \n",
              "3                     0.208420                 0.219296   \n",
              "4                     0.319024                 0.282500   \n",
              "...                        ...                      ...   \n",
              "115797               -0.587925                -0.632103   \n",
              "115798               -0.587925                -0.632103   \n",
              "115799               -0.587925                -0.632103   \n",
              "115800               -0.587925                -0.632103   \n",
              "115801               -0.587925                -0.582531   \n",
              "\n",
              "         Fwd Packet Length Std  ...  Active Mean   Active Std   Active Max  \\\n",
              "0                    -0.263041  ...    -0.118361    -0.105794    -0.136917   \n",
              "1                     0.042885  ...    -0.118361    -0.105794    -0.136917   \n",
              "2                     0.093259  ...    -0.118361    -0.105794    -0.136917   \n",
              "3                    -0.034399  ...    -0.118361    -0.105794    -0.136917   \n",
              "4                    -0.263041  ...    -0.118361    -0.105794    -0.136917   \n",
              "...                        ...  ...          ...          ...          ...   \n",
              "115797               -0.263041  ...    -0.118361    -0.105794    -0.136917   \n",
              "115798               -0.263041  ...    -0.118361    -0.105794    -0.136917   \n",
              "115799               -0.263041  ...    -0.118361    -0.105794    -0.136917   \n",
              "115800               -0.263041  ...    -0.118361    -0.105794    -0.136917   \n",
              "115801               -0.028537  ...    -0.118361    -0.105794    -0.136917   \n",
              "\n",
              "         Active Min  Idle Mean   Idle Std   Idle Max   Idle Min   Inbound  \\\n",
              "0         -0.093652  -0.232918   -0.10531   -0.23735  -0.222728  0.815435   \n",
              "1         -0.093652  -0.232918   -0.10531   -0.23735  -0.222728  0.815435   \n",
              "2         -0.093652  -0.232918   -0.10531   -0.23735  -0.222728  0.815435   \n",
              "3         -0.093652  -0.232918   -0.10531   -0.23735  -0.222728  0.815435   \n",
              "4         -0.093652  -0.232918   -0.10531   -0.23735  -0.222728  0.815435   \n",
              "...             ...        ...        ...        ...        ...       ...   \n",
              "115797    -0.093652  -0.232918   -0.10531   -0.23735  -0.222728 -1.226328   \n",
              "115798    -0.093652  -0.232918   -0.10531   -0.23735  -0.222728 -1.226328   \n",
              "115799    -0.093652  -0.232918   -0.10531   -0.23735  -0.222728  0.815435   \n",
              "115800    -0.093652  -0.232918   -0.10531   -0.23735  -0.222728  0.815435   \n",
              "115801    -0.093652  -0.232918   -0.10531   -0.23735  -0.222728 -1.226328   \n",
              "\n",
              "         Label  \n",
              "0            1  \n",
              "1            1  \n",
              "2            1  \n",
              "3            1  \n",
              "4            1  \n",
              "...        ...  \n",
              "115797       0  \n",
              "115798       0  \n",
              "115799       0  \n",
              "115800       0  \n",
              "115801       0  \n",
              "\n",
              "[114862 rows x 68 columns]"
            ],
            "text/html": [
              "\n",
              "  <div id=\"df-e0e8ba66-63ac-4599-b2dc-4e0d9330f6ce\">\n",
              "    <div class=\"colab-df-container\">\n",
              "      <div>\n",
              "<style scoped>\n",
              "    .dataframe tbody tr th:only-of-type {\n",
              "        vertical-align: middle;\n",
              "    }\n",
              "\n",
              "    .dataframe tbody tr th {\n",
              "        vertical-align: top;\n",
              "    }\n",
              "\n",
              "    .dataframe thead th {\n",
              "        text-align: right;\n",
              "    }\n",
              "</style>\n",
              "<table border=\"1\" class=\"dataframe\">\n",
              "  <thead>\n",
              "    <tr style=\"text-align: right;\">\n",
              "      <th></th>\n",
              "      <th>Protocol</th>\n",
              "      <th>Flow Duration</th>\n",
              "      <th>Total Fwd Packets</th>\n",
              "      <th>Total Backward Packets</th>\n",
              "      <th>Total Length of Fwd Packets</th>\n",
              "      <th>Total Length of Bwd Packets</th>\n",
              "      <th>Fwd Packet Length Max</th>\n",
              "      <th>Fwd Packet Length Min</th>\n",
              "      <th>Fwd Packet Length Mean</th>\n",
              "      <th>Fwd Packet Length Std</th>\n",
              "      <th>...</th>\n",
              "      <th>Active Mean</th>\n",
              "      <th>Active Std</th>\n",
              "      <th>Active Max</th>\n",
              "      <th>Active Min</th>\n",
              "      <th>Idle Mean</th>\n",
              "      <th>Idle Std</th>\n",
              "      <th>Idle Max</th>\n",
              "      <th>Idle Min</th>\n",
              "      <th>Inbound</th>\n",
              "      <th>Label</th>\n",
              "    </tr>\n",
              "  </thead>\n",
              "  <tbody>\n",
              "    <tr>\n",
              "      <th>0</th>\n",
              "      <td>0.873705</td>\n",
              "      <td>-0.271696</td>\n",
              "      <td>-0.018380</td>\n",
              "      <td>-0.049015</td>\n",
              "      <td>-0.109161</td>\n",
              "      <td>-0.021281</td>\n",
              "      <td>-0.005321</td>\n",
              "      <td>0.186300</td>\n",
              "      <td>0.148656</td>\n",
              "      <td>-0.263041</td>\n",
              "      <td>...</td>\n",
              "      <td>-0.118361</td>\n",
              "      <td>-0.105794</td>\n",
              "      <td>-0.136917</td>\n",
              "      <td>-0.093652</td>\n",
              "      <td>-0.232918</td>\n",
              "      <td>-0.10531</td>\n",
              "      <td>-0.23735</td>\n",
              "      <td>-0.222728</td>\n",
              "      <td>0.815435</td>\n",
              "      <td>1</td>\n",
              "    </tr>\n",
              "    <tr>\n",
              "      <th>1</th>\n",
              "      <td>0.873705</td>\n",
              "      <td>-0.231240</td>\n",
              "      <td>0.050107</td>\n",
              "      <td>-0.049015</td>\n",
              "      <td>2.089076</td>\n",
              "      <td>-0.021281</td>\n",
              "      <td>0.162783</td>\n",
              "      <td>0.186300</td>\n",
              "      <td>0.250526</td>\n",
              "      <td>0.042885</td>\n",
              "      <td>...</td>\n",
              "      <td>-0.118361</td>\n",
              "      <td>-0.105794</td>\n",
              "      <td>-0.136917</td>\n",
              "      <td>-0.093652</td>\n",
              "      <td>-0.232918</td>\n",
              "      <td>-0.10531</td>\n",
              "      <td>-0.23735</td>\n",
              "      <td>-0.222728</td>\n",
              "      <td>0.815435</td>\n",
              "      <td>1</td>\n",
              "    </tr>\n",
              "    <tr>\n",
              "      <th>2</th>\n",
              "      <td>0.873705</td>\n",
              "      <td>-0.262933</td>\n",
              "      <td>-0.003161</td>\n",
              "      <td>-0.049015</td>\n",
              "      <td>0.372452</td>\n",
              "      <td>-0.021281</td>\n",
              "      <td>0.145973</td>\n",
              "      <td>0.186300</td>\n",
              "      <td>0.215578</td>\n",
              "      <td>0.093259</td>\n",
              "      <td>...</td>\n",
              "      <td>-0.118361</td>\n",
              "      <td>-0.105794</td>\n",
              "      <td>-0.136917</td>\n",
              "      <td>-0.093652</td>\n",
              "      <td>-0.232918</td>\n",
              "      <td>-0.10531</td>\n",
              "      <td>-0.23735</td>\n",
              "      <td>-0.222728</td>\n",
              "      <td>0.815435</td>\n",
              "      <td>1</td>\n",
              "    </tr>\n",
              "    <tr>\n",
              "      <th>3</th>\n",
              "      <td>0.873705</td>\n",
              "      <td>-0.267384</td>\n",
              "      <td>-0.010771</td>\n",
              "      <td>-0.049015</td>\n",
              "      <td>0.142637</td>\n",
              "      <td>-0.021281</td>\n",
              "      <td>0.095541</td>\n",
              "      <td>0.208420</td>\n",
              "      <td>0.219296</td>\n",
              "      <td>-0.034399</td>\n",
              "      <td>...</td>\n",
              "      <td>-0.118361</td>\n",
              "      <td>-0.105794</td>\n",
              "      <td>-0.136917</td>\n",
              "      <td>-0.093652</td>\n",
              "      <td>-0.232918</td>\n",
              "      <td>-0.10531</td>\n",
              "      <td>-0.23735</td>\n",
              "      <td>-0.222728</td>\n",
              "      <td>0.815435</td>\n",
              "      <td>1</td>\n",
              "    </tr>\n",
              "    <tr>\n",
              "      <th>4</th>\n",
              "      <td>0.873705</td>\n",
              "      <td>-0.271698</td>\n",
              "      <td>-0.018380</td>\n",
              "      <td>-0.049015</td>\n",
              "      <td>-0.073190</td>\n",
              "      <td>-0.021281</td>\n",
              "      <td>0.108149</td>\n",
              "      <td>0.319024</td>\n",
              "      <td>0.282500</td>\n",
              "      <td>-0.263041</td>\n",
              "      <td>...</td>\n",
              "      <td>-0.118361</td>\n",
              "      <td>-0.105794</td>\n",
              "      <td>-0.136917</td>\n",
              "      <td>-0.093652</td>\n",
              "      <td>-0.232918</td>\n",
              "      <td>-0.10531</td>\n",
              "      <td>-0.23735</td>\n",
              "      <td>-0.222728</td>\n",
              "      <td>0.815435</td>\n",
              "      <td>1</td>\n",
              "    </tr>\n",
              "    <tr>\n",
              "      <th>...</th>\n",
              "      <td>...</td>\n",
              "      <td>...</td>\n",
              "      <td>...</td>\n",
              "      <td>...</td>\n",
              "      <td>...</td>\n",
              "      <td>...</td>\n",
              "      <td>...</td>\n",
              "      <td>...</td>\n",
              "      <td>...</td>\n",
              "      <td>...</td>\n",
              "      <td>...</td>\n",
              "      <td>...</td>\n",
              "      <td>...</td>\n",
              "      <td>...</td>\n",
              "      <td>...</td>\n",
              "      <td>...</td>\n",
              "      <td>...</td>\n",
              "      <td>...</td>\n",
              "      <td>...</td>\n",
              "      <td>...</td>\n",
              "      <td>...</td>\n",
              "    </tr>\n",
              "    <tr>\n",
              "      <th>115797</th>\n",
              "      <td>-1.109530</td>\n",
              "      <td>-0.270014</td>\n",
              "      <td>-0.022185</td>\n",
              "      <td>-0.039572</td>\n",
              "      <td>-0.320991</td>\n",
              "      <td>-0.021249</td>\n",
              "      <td>-0.667229</td>\n",
              "      <td>-0.587925</td>\n",
              "      <td>-0.632103</td>\n",
              "      <td>-0.263041</td>\n",
              "      <td>...</td>\n",
              "      <td>-0.118361</td>\n",
              "      <td>-0.105794</td>\n",
              "      <td>-0.136917</td>\n",
              "      <td>-0.093652</td>\n",
              "      <td>-0.232918</td>\n",
              "      <td>-0.10531</td>\n",
              "      <td>-0.23735</td>\n",
              "      <td>-0.222728</td>\n",
              "      <td>-1.226328</td>\n",
              "      <td>0</td>\n",
              "    </tr>\n",
              "    <tr>\n",
              "      <th>115798</th>\n",
              "      <td>-1.109530</td>\n",
              "      <td>-0.269435</td>\n",
              "      <td>-0.022185</td>\n",
              "      <td>-0.039572</td>\n",
              "      <td>-0.320991</td>\n",
              "      <td>-0.021249</td>\n",
              "      <td>-0.667229</td>\n",
              "      <td>-0.587925</td>\n",
              "      <td>-0.632103</td>\n",
              "      <td>-0.263041</td>\n",
              "      <td>...</td>\n",
              "      <td>-0.118361</td>\n",
              "      <td>-0.105794</td>\n",
              "      <td>-0.136917</td>\n",
              "      <td>-0.093652</td>\n",
              "      <td>-0.232918</td>\n",
              "      <td>-0.10531</td>\n",
              "      <td>-0.23735</td>\n",
              "      <td>-0.222728</td>\n",
              "      <td>-1.226328</td>\n",
              "      <td>0</td>\n",
              "    </tr>\n",
              "    <tr>\n",
              "      <th>115799</th>\n",
              "      <td>-1.109530</td>\n",
              "      <td>-0.271692</td>\n",
              "      <td>-0.022185</td>\n",
              "      <td>-0.030129</td>\n",
              "      <td>-0.320991</td>\n",
              "      <td>-0.021218</td>\n",
              "      <td>-0.667229</td>\n",
              "      <td>-0.587925</td>\n",
              "      <td>-0.632103</td>\n",
              "      <td>-0.263041</td>\n",
              "      <td>...</td>\n",
              "      <td>-0.118361</td>\n",
              "      <td>-0.105794</td>\n",
              "      <td>-0.136917</td>\n",
              "      <td>-0.093652</td>\n",
              "      <td>-0.232918</td>\n",
              "      <td>-0.10531</td>\n",
              "      <td>-0.23735</td>\n",
              "      <td>-0.222728</td>\n",
              "      <td>0.815435</td>\n",
              "      <td>0</td>\n",
              "    </tr>\n",
              "    <tr>\n",
              "      <th>115800</th>\n",
              "      <td>-1.109530</td>\n",
              "      <td>-0.271692</td>\n",
              "      <td>-0.022185</td>\n",
              "      <td>-0.030129</td>\n",
              "      <td>-0.320991</td>\n",
              "      <td>-0.021218</td>\n",
              "      <td>-0.667229</td>\n",
              "      <td>-0.587925</td>\n",
              "      <td>-0.632103</td>\n",
              "      <td>-0.263041</td>\n",
              "      <td>...</td>\n",
              "      <td>-0.118361</td>\n",
              "      <td>-0.105794</td>\n",
              "      <td>-0.136917</td>\n",
              "      <td>-0.093652</td>\n",
              "      <td>-0.232918</td>\n",
              "      <td>-0.10531</td>\n",
              "      <td>-0.23735</td>\n",
              "      <td>-0.222728</td>\n",
              "      <td>0.815435</td>\n",
              "      <td>0</td>\n",
              "    </tr>\n",
              "    <tr>\n",
              "      <th>115801</th>\n",
              "      <td>-1.109530</td>\n",
              "      <td>-0.269153</td>\n",
              "      <td>-0.010771</td>\n",
              "      <td>-0.030129</td>\n",
              "      <td>-0.288351</td>\n",
              "      <td>-0.020796</td>\n",
              "      <td>-0.583177</td>\n",
              "      <td>-0.587925</td>\n",
              "      <td>-0.582531</td>\n",
              "      <td>-0.028537</td>\n",
              "      <td>...</td>\n",
              "      <td>-0.118361</td>\n",
              "      <td>-0.105794</td>\n",
              "      <td>-0.136917</td>\n",
              "      <td>-0.093652</td>\n",
              "      <td>-0.232918</td>\n",
              "      <td>-0.10531</td>\n",
              "      <td>-0.23735</td>\n",
              "      <td>-0.222728</td>\n",
              "      <td>-1.226328</td>\n",
              "      <td>0</td>\n",
              "    </tr>\n",
              "  </tbody>\n",
              "</table>\n",
              "<p>114862 rows × 68 columns</p>\n",
              "</div>\n",
              "      <button class=\"colab-df-convert\" onclick=\"convertToInteractive('df-e0e8ba66-63ac-4599-b2dc-4e0d9330f6ce')\"\n",
              "              title=\"Convert this dataframe to an interactive table.\"\n",
              "              style=\"display:none;\">\n",
              "        \n",
              "  <svg xmlns=\"http://www.w3.org/2000/svg\" height=\"24px\"viewBox=\"0 0 24 24\"\n",
              "       width=\"24px\">\n",
              "    <path d=\"M0 0h24v24H0V0z\" fill=\"none\"/>\n",
              "    <path d=\"M18.56 5.44l.94 2.06.94-2.06 2.06-.94-2.06-.94-.94-2.06-.94 2.06-2.06.94zm-11 1L8.5 8.5l.94-2.06 2.06-.94-2.06-.94L8.5 2.5l-.94 2.06-2.06.94zm10 10l.94 2.06.94-2.06 2.06-.94-2.06-.94-.94-2.06-.94 2.06-2.06.94z\"/><path d=\"M17.41 7.96l-1.37-1.37c-.4-.4-.92-.59-1.43-.59-.52 0-1.04.2-1.43.59L10.3 9.45l-7.72 7.72c-.78.78-.78 2.05 0 2.83L4 21.41c.39.39.9.59 1.41.59.51 0 1.02-.2 1.41-.59l7.78-7.78 2.81-2.81c.8-.78.8-2.07 0-2.86zM5.41 20L4 18.59l7.72-7.72 1.47 1.35L5.41 20z\"/>\n",
              "  </svg>\n",
              "      </button>\n",
              "      \n",
              "  <style>\n",
              "    .colab-df-container {\n",
              "      display:flex;\n",
              "      flex-wrap:wrap;\n",
              "      gap: 12px;\n",
              "    }\n",
              "\n",
              "    .colab-df-convert {\n",
              "      background-color: #E8F0FE;\n",
              "      border: none;\n",
              "      border-radius: 50%;\n",
              "      cursor: pointer;\n",
              "      display: none;\n",
              "      fill: #1967D2;\n",
              "      height: 32px;\n",
              "      padding: 0 0 0 0;\n",
              "      width: 32px;\n",
              "    }\n",
              "\n",
              "    .colab-df-convert:hover {\n",
              "      background-color: #E2EBFA;\n",
              "      box-shadow: 0px 1px 2px rgba(60, 64, 67, 0.3), 0px 1px 3px 1px rgba(60, 64, 67, 0.15);\n",
              "      fill: #174EA6;\n",
              "    }\n",
              "\n",
              "    [theme=dark] .colab-df-convert {\n",
              "      background-color: #3B4455;\n",
              "      fill: #D2E3FC;\n",
              "    }\n",
              "\n",
              "    [theme=dark] .colab-df-convert:hover {\n",
              "      background-color: #434B5C;\n",
              "      box-shadow: 0px 1px 3px 1px rgba(0, 0, 0, 0.15);\n",
              "      filter: drop-shadow(0px 1px 2px rgba(0, 0, 0, 0.3));\n",
              "      fill: #FFFFFF;\n",
              "    }\n",
              "  </style>\n",
              "\n",
              "      <script>\n",
              "        const buttonEl =\n",
              "          document.querySelector('#df-e0e8ba66-63ac-4599-b2dc-4e0d9330f6ce button.colab-df-convert');\n",
              "        buttonEl.style.display =\n",
              "          google.colab.kernel.accessAllowed ? 'block' : 'none';\n",
              "\n",
              "        async function convertToInteractive(key) {\n",
              "          const element = document.querySelector('#df-e0e8ba66-63ac-4599-b2dc-4e0d9330f6ce');\n",
              "          const dataTable =\n",
              "            await google.colab.kernel.invokeFunction('convertToInteractive',\n",
              "                                                     [key], {});\n",
              "          if (!dataTable) return;\n",
              "\n",
              "          const docLinkHtml = 'Like what you see? Visit the ' +\n",
              "            '<a target=\"_blank\" href=https://colab.research.google.com/notebooks/data_table.ipynb>data table notebook</a>'\n",
              "            + ' to learn more about interactive tables.';\n",
              "          element.innerHTML = '';\n",
              "          dataTable['output_type'] = 'display_data';\n",
              "          await google.colab.output.renderOutput(dataTable, element);\n",
              "          const docLink = document.createElement('div');\n",
              "          docLink.innerHTML = docLinkHtml;\n",
              "          element.appendChild(docLink);\n",
              "        }\n",
              "      </script>\n",
              "    </div>\n",
              "  </div>\n",
              "  "
            ]
          },
          "metadata": {},
          "execution_count": 28
        }
      ],
      "source": [
        "normalized_df = normalized_df.drop(list(outliers.index))\n",
        "normalized_df"
      ]
    },
    {
      "cell_type": "markdown",
      "metadata": {
        "id": "GkGOS59IOgOu"
      },
      "source": [
        "## 6"
      ]
    },
    {
      "cell_type": "code",
      "execution_count": 13,
      "metadata": {
        "id": "IWZuBkxj_ohq"
      },
      "outputs": [],
      "source": [
        "# normalized_df.to_csv('drive/MyDrive/normalized_df.csv')\n",
        "normalized_df = pd.read_csv('drive/MyDrive/normalized_df.csv')\n",
        "normalized_df = normalized_df.drop(columns=['Unnamed: 0'])"
      ]
    },
    {
      "cell_type": "code",
      "execution_count": 14,
      "metadata": {
        "id": "XosVv_eDM-hy",
        "colab": {
          "base_uri": "https://localhost:8080/"
        },
        "outputId": "b03e5c22-fd31-4ec4-983f-d96523daecb1"
      },
      "outputs": [
        {
          "output_type": "execute_result",
          "data": {
            "text/plain": [
              "(97632, 68)"
            ]
          },
          "metadata": {},
          "execution_count": 14
        }
      ],
      "source": [
        "from sklearn.model_selection import train_test_split\n",
        "\n",
        "train_df, test_df = train_test_split(normalized_df, test_size=0.15, shuffle=True)\n",
        "train_df.shape"
      ]
    },
    {
      "cell_type": "code",
      "execution_count": 15,
      "metadata": {
        "id": "TLWKSa-8P2Op",
        "colab": {
          "base_uri": "https://localhost:8080/"
        },
        "outputId": "7a9d425d-4542-4a73-bc25-450ab1ff0b49"
      },
      "outputs": [
        {
          "output_type": "execute_result",
          "data": {
            "text/plain": [
              "((97632, 67), (97632,))"
            ]
          },
          "metadata": {},
          "execution_count": 15
        }
      ],
      "source": [
        "temp = train_df.loc[:, train_df.columns != ' Label']\n",
        "x_train = temp.to_numpy()\n",
        "y_train = train_df[' Label'].to_numpy()\n",
        "x_train.shape, y_train.shape"
      ]
    },
    {
      "cell_type": "code",
      "execution_count": 16,
      "metadata": {
        "id": "TQKcq_R6Qk_O",
        "colab": {
          "base_uri": "https://localhost:8080/"
        },
        "outputId": "b5489cc9-24d7-46c9-e75c-110f3651c08b"
      },
      "outputs": [
        {
          "output_type": "execute_result",
          "data": {
            "text/plain": [
              "((17230, 67), (17230,))"
            ]
          },
          "metadata": {},
          "execution_count": 16
        }
      ],
      "source": [
        "temp = test_df.loc[:, test_df.columns != ' Label']\n",
        "x_test = temp.to_numpy()\n",
        "y_test = test_df[' Label'].to_numpy()\n",
        "x_test.shape, y_test.shape"
      ]
    },
    {
      "cell_type": "markdown",
      "metadata": {
        "id": "1WAFkZF8PsYM"
      },
      "source": [
        "# Step 3: Mining algorithms"
      ]
    },
    {
      "cell_type": "markdown",
      "metadata": {
        "id": "44Hf15cXB6P-"
      },
      "source": [
        "## Neural network"
      ]
    },
    {
      "cell_type": "code",
      "execution_count": 18,
      "metadata": {
        "id": "kRZDfYxPPJjv"
      },
      "outputs": [],
      "source": [
        "model = tf.keras.models.Sequential(layers=[\n",
        "                                    tf.keras.layers.Dense(units=67, activation='relu', input_shape=(67,)),\n",
        "                                    tf.keras.layers.Dense(units=100, activation = 'relu'),\n",
        "                                    tf.keras.layers.Dense(units=1, activation = 'sigmoid'),\n",
        "])"
      ]
    },
    {
      "cell_type": "code",
      "execution_count": 19,
      "metadata": {
        "id": "WqPzTIkcWL5c",
        "colab": {
          "base_uri": "https://localhost:8080/"
        },
        "outputId": "5d2d4d06-7501-4059-97e5-5edb09df77ee"
      },
      "outputs": [
        {
          "output_type": "stream",
          "name": "stdout",
          "text": [
            "Model: \"sequential_1\"\n",
            "_________________________________________________________________\n",
            " Layer (type)                Output Shape              Param #   \n",
            "=================================================================\n",
            " dense_3 (Dense)             (None, 67)                4556      \n",
            "                                                                 \n",
            " dense_4 (Dense)             (None, 100)               6800      \n",
            "                                                                 \n",
            " dense_5 (Dense)             (None, 1)                 101       \n",
            "                                                                 \n",
            "=================================================================\n",
            "Total params: 11,457\n",
            "Trainable params: 11,457\n",
            "Non-trainable params: 0\n",
            "_________________________________________________________________\n"
          ]
        }
      ],
      "source": [
        "model.compile(\n",
        "        loss = 'binary_crossentropy',\n",
        "        optimizer = tf.keras.optimizers.Adam(learning_rate=0.001),\n",
        "        metrics = [ 'accuracy',\n",
        "                    tf.keras.metrics.Precision(),\n",
        "                    tf.keras.metrics.Recall(),\n",
        "                  ])\n",
        "model.summary()"
      ]
    },
    {
      "cell_type": "code",
      "execution_count": 20,
      "metadata": {
        "id": "qXOHeqD4WpxB",
        "colab": {
          "base_uri": "https://localhost:8080/"
        },
        "outputId": "dd789c8c-5524-4119-9266-433fd565cec4"
      },
      "outputs": [
        {
          "output_type": "stream",
          "name": "stdout",
          "text": [
            "Epoch 1/5\n",
            "1373/1373 [==============================] - 4s 3ms/step - loss: 0.0207 - accuracy: 0.9955 - precision_1: 0.9977 - recall_1: 0.9934 - val_loss: 0.0158 - val_accuracy: 0.9970 - val_precision_1: 0.9972 - val_recall_1: 0.9970\n",
            "Epoch 2/5\n",
            "1373/1373 [==============================] - 3s 2ms/step - loss: 0.0093 - accuracy: 0.9981 - precision_1: 0.9986 - recall_1: 0.9977 - val_loss: 0.0146 - val_accuracy: 0.9961 - val_precision_1: 0.9954 - val_recall_1: 0.9970\n",
            "Epoch 3/5\n",
            "1373/1373 [==============================] - 3s 2ms/step - loss: 0.0079 - accuracy: 0.9983 - precision_1: 0.9987 - recall_1: 0.9980 - val_loss: 0.0100 - val_accuracy: 0.9973 - val_precision_1: 0.9980 - val_recall_1: 0.9968\n",
            "Epoch 4/5\n",
            "1373/1373 [==============================] - 3s 2ms/step - loss: 0.0072 - accuracy: 0.9983 - precision_1: 0.9988 - recall_1: 0.9979 - val_loss: 0.0129 - val_accuracy: 0.9974 - val_precision_1: 0.9976 - val_recall_1: 0.9974\n",
            "Epoch 5/5\n",
            "1373/1373 [==============================] - 3s 2ms/step - loss: 0.0070 - accuracy: 0.9984 - precision_1: 0.9990 - recall_1: 0.9979 - val_loss: 0.0093 - val_accuracy: 0.9971 - val_precision_1: 0.9976 - val_recall_1: 0.9968\n"
          ]
        },
        {
          "output_type": "execute_result",
          "data": {
            "text/plain": [
              "<keras.callbacks.History at 0x7fac1286f7d0>"
            ]
          },
          "metadata": {},
          "execution_count": 20
        }
      ],
      "source": [
        "model.fit(x = x_train,\n",
        "          y = y_train,\n",
        "          batch_size=64,\n",
        "          epochs=5,\n",
        "          validation_split=0.1,\n",
        "          )"
      ]
    },
    {
      "cell_type": "markdown",
      "metadata": {
        "id": "CcI-aKu1B9K8"
      },
      "source": [
        "## Desicion tree"
      ]
    },
    {
      "cell_type": "code",
      "execution_count": 21,
      "metadata": {
        "id": "d6JBQyF07zT2"
      },
      "outputs": [],
      "source": [
        "from sklearn.tree import export_graphviz\n",
        "import subprocess\n",
        "\n",
        "def visualize_tree(tree, feature_names):\n",
        "  with open(\"dt.dot\", 'w') as f:\n",
        "      export_graphviz(tree, out_file=f,\n",
        "                      feature_names=feature_names)\n",
        "\n",
        "  command = [\"dot\", \"-Tpng\", \"dt.dot\", \"-o\", \"dt.png\"]\n",
        "  try:\n",
        "      subprocess.check_call(command)\n",
        "  except:\n",
        "      exit(\"Could not run dot, ie graphviz, to \"\n",
        "            \"produce visualization\")"
      ]
    },
    {
      "cell_type": "code",
      "execution_count": 43,
      "metadata": {
        "id": "O3m9PxS-CC-j"
      },
      "outputs": [],
      "source": [
        "from sklearn.tree import DecisionTreeClassifier\n",
        "\n",
        "def decision_tree(dataframe, target_column, is_visualize=False, is_print=True):\n",
        "  y = dataframe[target_column]\n",
        "  X = dataframe.drop(columns = [target_column])\n",
        "\n",
        "  if is_print:\n",
        "    print(\"number of unique values of each column:\")\n",
        "    print(dataframe.nunique().sort_values(ascending=False))\n",
        "\n",
        "  dt = DecisionTreeClassifier()\n",
        "  dt.fit(X, y)\n",
        "  \n",
        "  if is_visualize:\n",
        "    visualize_tree(dt, X.columns)\n",
        "    print(\"\\ntree schema saved on dt.png\")\n",
        "  \n",
        "  best_attributes = pd.DataFrame(dt.feature_importances_, \n",
        "                                 index = X.columns, \n",
        "                                 columns=['importance']).sort_values('importance',\n",
        "                                                                     ascending=False)\n",
        "  if is_print:\n",
        "    print(\"\\nthe most important features (features on top of the tree): \")\n",
        "    print(best_attributes)\n",
        "  return list(best_attributes.index), dt"
      ]
    },
    {
      "cell_type": "code",
      "execution_count": 23,
      "metadata": {
        "id": "p-7aeoj1JXHT",
        "colab": {
          "base_uri": "https://localhost:8080/"
        },
        "outputId": "f57c03ff-783b-4256-b935-9ffbfcc50add"
      },
      "outputs": [
        {
          "output_type": "stream",
          "name": "stdout",
          "text": [
            "number of unique values of each column:\n",
            "Flow Bytes/s       33294\n",
            " Flow IAT Std      30620\n",
            " Flow Packets/s    27773\n",
            " Flow IAT Mean     27693\n",
            "Fwd Packets/s      27456\n",
            "                   ...  \n",
            " RST Flag Count        2\n",
            " SYN Flag Count        2\n",
            "Fwd PSH Flags          2\n",
            " Inbound               2\n",
            " Label                 2\n",
            "Length: 68, dtype: int64\n",
            "\n",
            "the most important features (features on top of the tree): \n",
            "                              importance\n",
            " Min Packet Length              0.708941\n",
            " URG Flag Count                 0.163024\n",
            " Inbound                        0.101902\n",
            " Average Packet Size            0.013626\n",
            " Fwd IAT Min                    0.005135\n",
            "...                                  ...\n",
            " Fwd IAT Std                    0.000000\n",
            " RST Flag Count                 0.000000\n",
            " Fwd Packet Length Max          0.000000\n",
            " Total Length of Bwd Packets    0.000000\n",
            " Packet Length Variance         0.000000\n",
            "\n",
            "[67 rows x 1 columns]\n"
          ]
        }
      ],
      "source": [
        "best_attributes, dt = decision_tree(train_df, ' Label')"
      ]
    },
    {
      "cell_type": "markdown",
      "metadata": {
        "id": "nuXcDjjNidF2"
      },
      "source": [
        "## SVM"
      ]
    },
    {
      "cell_type": "code",
      "execution_count": 24,
      "metadata": {
        "id": "yIYEq9BlibWs",
        "colab": {
          "base_uri": "https://localhost:8080/"
        },
        "outputId": "e5e48cdd-4d39-4ba6-af50-c8cd7d3697d1"
      },
      "outputs": [
        {
          "output_type": "execute_result",
          "data": {
            "text/plain": [
              "SVC(random_state=0)"
            ]
          },
          "metadata": {},
          "execution_count": 24
        }
      ],
      "source": [
        "from sklearn.svm import SVC\n",
        "\n",
        "svm_classifier = SVC(random_state=0)\n",
        "svm_classifier.fit(x_train, y_train)\n",
        "SVC(random_state=0)"
      ]
    },
    {
      "cell_type": "markdown",
      "metadata": {
        "id": "ggpVA-aosoWq"
      },
      "source": [
        "# Step 4: Evaluate"
      ]
    },
    {
      "cell_type": "code",
      "execution_count": 26,
      "metadata": {
        "id": "vwl5uwxhx9EN"
      },
      "outputs": [],
      "source": [
        "def calculate_metrics(y_predict, y_test):\n",
        "  tp = 0\n",
        "  tn = 0\n",
        "  fn = 0\n",
        "  fp = 0\n",
        "  for i in range(y_test.shape[0]):\n",
        "    if y_test[i] == 1:\n",
        "      if y_predict[i] == 1:\n",
        "        tp += 1\n",
        "      elif y_predict[i] == 0:\n",
        "        fn += 1\n",
        "    elif y_test[i] == 0:\n",
        "      if y_predict[i] == 0:\n",
        "        tn += 1\n",
        "      elif y_predict[i] == 1:\n",
        "        fp += 1\n",
        "  return tp, fn, tn, fp\n",
        "\n",
        "def accuracy(y_predict, y_test):\n",
        "  tp, fn, tn, fp = calculate_metrics(y_predict, y_test)\n",
        "  return (tp+tn)/(tp+tn+fn+fp)\n",
        "\n",
        "def precision(y_predict, y_test):\n",
        "  tp, fn, tn, fp = calculate_metrics(y_predict, y_test)\n",
        "  return (tp)/(tp+fp)\n",
        "\n",
        "def recall(y_predict, y_test):\n",
        "  tp, fn, tn, fp = calculate_metrics(y_predict, y_test)\n",
        "  return (tp)/(tp+fn)\n",
        "\n",
        "def f1_score(y_predict, y_test, beta=0.5):\n",
        "  r = recall(y_predict, y_test)\n",
        "  p = precision(y_predict, y_test)\n",
        "  return ((1+beta**2)*p*r)/((beta**2 * p )+ r)"
      ]
    },
    {
      "cell_type": "code",
      "execution_count": 27,
      "metadata": {
        "id": "n1KGYORBQNm0",
        "colab": {
          "base_uri": "https://localhost:8080/"
        },
        "outputId": "b0688e77-c36d-41c4-953c-d02ef4bb6614"
      },
      "outputs": [
        {
          "output_type": "stream",
          "name": "stdout",
          "text": [
            "test accuracy of neural network model is: 99.88 %\n",
            "test presicion of neural network model is: 99.93 %\n",
            "test recall of neural network model is: 99.84 %\n",
            "test f1_score of neural network model is: 99.91 %\n"
          ]
        }
      ],
      "source": [
        "model_predictions = model.predict(x_test)\n",
        "\n",
        "model_predictions[model_predictions>0.5] = 1\n",
        "model_predictions[model_predictions<=0.5] = 0\n",
        "\n",
        "print(\"test accuracy of neural network model is:\", round(accuracy(model_predictions, y_test)*100,2), '%')\n",
        "print(\"test presicion of neural network model is:\", round(precision(model_predictions, y_test)*100,2), '%')\n",
        "print(\"test recall of neural network model is:\", round(recall(model_predictions, y_test)*100,2), '%')\n",
        "print(\"test f1_score of neural network model is:\", round(f1_score(model_predictions, y_test)*100,2), '%')"
      ]
    },
    {
      "cell_type": "code",
      "execution_count": 28,
      "metadata": {
        "id": "ftq65sQhXKu2",
        "colab": {
          "base_uri": "https://localhost:8080/"
        },
        "outputId": "317c840d-bd5e-4d81-fe93-986727ff2ae3"
      },
      "outputs": [
        {
          "output_type": "stream",
          "name": "stdout",
          "text": [
            "3051/3051 [==============================] - 6s 2ms/step - loss: 0.0071 - accuracy: 0.9982 - precision_1: 0.9986 - recall_1: 0.9979\n",
            "539/539 [==============================] - 1s 2ms/step - loss: 0.0049 - accuracy: 0.9988 - precision_1: 0.9993 - recall_1: 0.9984\n",
            "test accuracy of neural network model is: 99.88 %\n",
            "test presicion of neural network model is: 99.93 %\n",
            "test recall of neural network model is: 99.84 %\n"
          ]
        }
      ],
      "source": [
        "train_result = model.evaluate(x_train, y_train)\n",
        "test_result = model.evaluate(x_test, y_test)\n",
        "print(\"test accuracy of neural network model is:\", round(test_result[1]*100,2), '%')\n",
        "print(\"test presicion of neural network model is:\", round(test_result[2]*100,2), '%')\n",
        "print(\"test recall of neural network model is:\", round(test_result[3]*100,2), '%')"
      ]
    },
    {
      "cell_type": "code",
      "execution_count": 29,
      "metadata": {
        "id": "ki8WWnmwc4qA",
        "colab": {
          "base_uri": "https://localhost:8080/",
          "height": 421
        },
        "outputId": "1a11197b-273c-42ee-8f18-e281597e9e03"
      },
      "outputs": [
        {
          "output_type": "stream",
          "name": "stdout",
          "text": [
            "test accuracy of svm model is: 99.88 %\n",
            "test presicion of svm model is: 99.93 %\n",
            "test recall of svm model is: 99.83 %\n",
            "test f1_score of svm model is: 99.88 %\n"
          ]
        },
        {
          "output_type": "stream",
          "name": "stderr",
          "text": [
            "/usr/local/lib/python3.7/dist-packages/sklearn/utils/deprecation.py:87: FutureWarning: Function plot_confusion_matrix is deprecated; Function `plot_confusion_matrix` is deprecated in 1.0 and will be removed in 1.2. Use one of the class methods: ConfusionMatrixDisplay.from_predictions or ConfusionMatrixDisplay.from_estimator.\n",
            "  warnings.warn(msg, category=FutureWarning)\n"
          ]
        },
        {
          "output_type": "execute_result",
          "data": {
            "text/plain": [
              "<sklearn.metrics._plot.confusion_matrix.ConfusionMatrixDisplay at 0x7fac157b38d0>"
            ]
          },
          "metadata": {},
          "execution_count": 29
        },
        {
          "output_type": "display_data",
          "data": {
            "text/plain": [
              "<Figure size 432x288 with 2 Axes>"
            ],
            "image/png": "[encoded data removed]"
          },
          "metadata": {
            "needs_background": "light"
          }
        }
      ],
      "source": [
        "from sklearn.metrics import plot_confusion_matrix, accuracy_score, precision_score, recall_score, f1_score\n",
        "\n",
        "svm_predictions = svm_classifier.predict(x_test)\n",
        "\n",
        "print(\"test accuracy of svm model is:\", round(accuracy_score(y_test, svm_predictions)*100,2), '%')\n",
        "print(\"test presicion of svm model is:\", round(precision_score(y_test, svm_predictions)*100,2), '%')\n",
        "print(\"test recall of svm model is:\", round(recall_score(y_test, svm_predictions)*100,2), '%')\n",
        "print(\"test f1_score of svm model is:\", round(f1_score(y_test, svm_predictions)*100,2), '%')\n",
        "\n",
        "plot_confusion_matrix(svm_classifier, x_test, y_test)"
      ]
    },
    {
      "cell_type": "code",
      "execution_count": 30,
      "metadata": {
        "id": "OTFcGecqQcJb",
        "colab": {
          "base_uri": "https://localhost:8080/",
          "height": 455
        },
        "outputId": "3749625e-f0ba-4dc7-9be5-af5eda946d3c"
      },
      "outputs": [
        {
          "output_type": "stream",
          "name": "stdout",
          "text": [
            "test accuracy of decision tree model is: 99.98 %\n",
            "test presicion of decision tree model is: 99.99 %\n",
            "test recall of decision tree model is: 99.98 %\n",
            "test f1_score of decision tree model is: 99.98 %\n"
          ]
        },
        {
          "output_type": "stream",
          "name": "stderr",
          "text": [
            "/usr/local/lib/python3.7/dist-packages/sklearn/utils/deprecation.py:87: FutureWarning: Function plot_confusion_matrix is deprecated; Function `plot_confusion_matrix` is deprecated in 1.0 and will be removed in 1.2. Use one of the class methods: ConfusionMatrixDisplay.from_predictions or ConfusionMatrixDisplay.from_estimator.\n",
            "  warnings.warn(msg, category=FutureWarning)\n",
            "/usr/local/lib/python3.7/dist-packages/sklearn/base.py:451: UserWarning: X does not have valid feature names, but DecisionTreeClassifier was fitted with feature names\n",
            "  \"X does not have valid feature names, but\"\n"
          ]
        },
        {
          "output_type": "execute_result",
          "data": {
            "text/plain": [
              "<sklearn.metrics._plot.confusion_matrix.ConfusionMatrixDisplay at 0x7fac0e8aae10>"
            ]
          },
          "metadata": {},
          "execution_count": 30
        },
        {
          "output_type": "display_data",
          "data": {
            "text/plain": [
              "<Figure size 432x288 with 2 Axes>"
            ],
            "image/png": "[encoded data removed]"
          },
          "metadata": {
            "needs_background": "light"
          }
        }
      ],
      "source": [
        "dt_predictions = dt.predict(test_df.loc[:, test_df.columns != ' Label'])\n",
        "\n",
        "print(\"test accuracy of decision tree model is:\", round(accuracy(dt_predictions, y_test)*100,2), '%')\n",
        "print(\"test presicion of decision tree model is:\", round(precision(dt_predictions, y_test)*100,2), '%')\n",
        "print(\"test recall of decision tree model is:\", round(recall(dt_predictions, y_test)*100,2), '%')\n",
        "print(\"test f1_score of decision tree model is:\", round(f1_score(dt_predictions, y_test)*100,2), '%')\n",
        "\n",
        "plot_confusion_matrix(dt, x_test, y_test)"
      ]
    },
    {
      "cell_type": "markdown",
      "metadata": {
        "id": "Dk37F5hSUpO2"
      },
      "source": [
        "# Step 5: Find the most important attributes"
      ]
    },
    {
      "cell_type": "code",
      "execution_count": 32,
      "metadata": {
        "id": "nEOVK4dWTjGp",
        "colab": {
          "base_uri": "https://localhost:8080/",
          "height": 258
        },
        "outputId": "60be9d3b-3604-4398-8af2-88b29d274900"
      },
      "outputs": [
        {
          "output_type": "display_data",
          "data": {
            "text/plain": [
              "<Figure size 432x288 with 2 Axes>"
            ],
            "image/png": "[encoded data removed]"
          },
          "metadata": {
            "needs_background": "light"
          }
        }
      ],
      "source": [
        "train_df.plot(x= ' Min Packet Length', y =' Fwd Packet Length Min', kind = 'scatter', c=' Label', colormap='plasma')\n",
        "plt.show()"
      ]
    },
    {
      "cell_type": "code",
      "execution_count": 33,
      "metadata": {
        "id": "4d_YIxLaUi9X",
        "colab": {
          "base_uri": "https://localhost:8080/",
          "height": 258
        },
        "outputId": "cd89e600-81d9-4f1e-c1a0-0ae609724f8f"
      },
      "outputs": [
        {
          "output_type": "display_data",
          "data": {
            "text/plain": [
              "<Figure size 432x288 with 2 Axes>"
            ],
            "image/png": "[encoded data removed]"
          },
          "metadata": {
            "needs_background": "light"
          }
        }
      ],
      "source": [
        "train_df.plot(x= ' Min Packet Length', y=' ACK Flag Count', kind = 'scatter', c=' Label', colormap='plasma')\n",
        "plt.show()"
      ]
    },
    {
      "cell_type": "code",
      "execution_count": 34,
      "metadata": {
        "id": "kGCYUDibYZHH",
        "colab": {
          "base_uri": "https://localhost:8080/"
        },
        "outputId": "a0642fa9-a877-4021-d382-3804d50b831f"
      },
      "outputs": [
        {
          "output_type": "execute_result",
          "data": {
            "text/plain": [
              " URG Flag Count           -0.576622\n",
              " Down/Up Ratio            -0.479955\n",
              " Bwd Packet Length Min    -0.365127\n",
              " CWE Flag Count           -0.350544\n",
              " RST Flag Count           -0.313886\n",
              "Fwd PSH Flags             -0.313886\n",
              " Packet Length Std        -0.305116\n",
              " Bwd Packet Length Mean   -0.298638\n",
              " Avg Bwd Segment Size     -0.298638\n",
              "Init_Win_bytes_forward    -0.293132\n",
              "Name:  Label, dtype: float64"
            ]
          },
          "metadata": {},
          "execution_count": 34
        }
      ],
      "source": [
        "correlations = train_df.corr()[' Label'].sort_values()\n",
        "correlations.head(10)"
      ]
    },
    {
      "cell_type": "code",
      "execution_count": 35,
      "metadata": {
        "id": "dyyIGa1gd_Bp",
        "colab": {
          "base_uri": "https://localhost:8080/"
        },
        "outputId": "058daff0-7972-4618-b3bd-bedf7fd600ea"
      },
      "outputs": [
        {
          "output_type": "execute_result",
          "data": {
            "text/plain": [
              " Average Packet Size       0.507911\n",
              " Fwd Packet Length Mean    0.528349\n",
              " Avg Fwd Segment Size      0.528349\n",
              "Fwd Packets/s              0.536647\n",
              " Flow Packets/s            0.549108\n",
              " Fwd Packet Length Min     0.555474\n",
              " Protocol                  0.556413\n",
              " Min Packet Length         0.558173\n",
              " Inbound                   0.799062\n",
              " Label                     1.000000\n",
              "Name:  Label, dtype: float64"
            ]
          },
          "metadata": {},
          "execution_count": 35
        }
      ],
      "source": [
        "correlations.tail(10)"
      ]
    },
    {
      "cell_type": "code",
      "execution_count": 36,
      "metadata": {
        "id": "Cu90b817e-dM",
        "colab": {
          "base_uri": "https://localhost:8080/",
          "height": 198
        },
        "outputId": "2d1e7573-6ad8-4424-cbc6-398e881706fa"
      },
      "outputs": [
        {
          "output_type": "stream",
          "name": "stderr",
          "text": [
            "/usr/local/lib/python3.7/dist-packages/ipykernel_launcher.py:1: FutureWarning: Indexing with multiple keys (implicitly converted to a tuple of keys) will be deprecated, use a list instead.\n",
            "  \"\"\"Entry point for launching an IPython kernel.\n"
          ]
        },
        {
          "output_type": "execute_result",
          "data": {
            "text/plain": [
              "         Inbound   Min Packet Length   ACK Flag Count   Fwd IAT Min  \\\n",
              " Label                                                                \n",
              "0      -0.812109           -0.567156         0.045313      0.027404   \n",
              "1       0.785103            0.551241        -0.051562     -0.022803   \n",
              "\n",
              "         URG Flag Count   Down/Up Ratio  \n",
              " Label                                   \n",
              "0              0.583605        0.470347  \n",
              "1             -0.567021       -0.464006  "
            ],
            "text/html": [
              "\n",
              "  <div id=\"df-86f8e5b5-bab9-43f2-8cd5-261ea46746c8\">\n",
              "    <div class=\"colab-df-container\">\n",
              "      <div>\n",
              "<style scoped>\n",
              "    .dataframe tbody tr th:only-of-type {\n",
              "        vertical-align: middle;\n",
              "    }\n",
              "\n",
              "    .dataframe tbody tr th {\n",
              "        vertical-align: top;\n",
              "    }\n",
              "\n",
              "    .dataframe thead th {\n",
              "        text-align: right;\n",
              "    }\n",
              "</style>\n",
              "<table border=\"1\" class=\"dataframe\">\n",
              "  <thead>\n",
              "    <tr style=\"text-align: right;\">\n",
              "      <th></th>\n",
              "      <th>Inbound</th>\n",
              "      <th>Min Packet Length</th>\n",
              "      <th>ACK Flag Count</th>\n",
              "      <th>Fwd IAT Min</th>\n",
              "      <th>URG Flag Count</th>\n",
              "      <th>Down/Up Ratio</th>\n",
              "    </tr>\n",
              "    <tr>\n",
              "      <th>Label</th>\n",
              "      <th></th>\n",
              "      <th></th>\n",
              "      <th></th>\n",
              "      <th></th>\n",
              "      <th></th>\n",
              "      <th></th>\n",
              "    </tr>\n",
              "  </thead>\n",
              "  <tbody>\n",
              "    <tr>\n",
              "      <th>0</th>\n",
              "      <td>-0.812109</td>\n",
              "      <td>-0.567156</td>\n",
              "      <td>0.045313</td>\n",
              "      <td>0.027404</td>\n",
              "      <td>0.583605</td>\n",
              "      <td>0.470347</td>\n",
              "    </tr>\n",
              "    <tr>\n",
              "      <th>1</th>\n",
              "      <td>0.785103</td>\n",
              "      <td>0.551241</td>\n",
              "      <td>-0.051562</td>\n",
              "      <td>-0.022803</td>\n",
              "      <td>-0.567021</td>\n",
              "      <td>-0.464006</td>\n",
              "    </tr>\n",
              "  </tbody>\n",
              "</table>\n",
              "</div>\n",
              "      <button class=\"colab-df-convert\" onclick=\"convertToInteractive('df-86f8e5b5-bab9-43f2-8cd5-261ea46746c8')\"\n",
              "              title=\"Convert this dataframe to an interactive table.\"\n",
              "              style=\"display:none;\">\n",
              "        \n",
              "  <svg xmlns=\"http://www.w3.org/2000/svg\" height=\"24px\"viewBox=\"0 0 24 24\"\n",
              "       width=\"24px\">\n",
              "    <path d=\"M0 0h24v24H0V0z\" fill=\"none\"/>\n",
              "    <path d=\"M18.56 5.44l.94 2.06.94-2.06 2.06-.94-2.06-.94-.94-2.06-.94 2.06-2.06.94zm-11 1L8.5 8.5l.94-2.06 2.06-.94-2.06-.94L8.5 2.5l-.94 2.06-2.06.94zm10 10l.94 2.06.94-2.06 2.06-.94-2.06-.94-.94-2.06-.94 2.06-2.06.94z\"/><path d=\"M17.41 7.96l-1.37-1.37c-.4-.4-.92-.59-1.43-.59-.52 0-1.04.2-1.43.59L10.3 9.45l-7.72 7.72c-.78.78-.78 2.05 0 2.83L4 21.41c.39.39.9.59 1.41.59.51 0 1.02-.2 1.41-.59l7.78-7.78 2.81-2.81c.8-.78.8-2.07 0-2.86zM5.41 20L4 18.59l7.72-7.72 1.47 1.35L5.41 20z\"/>\n",
              "  </svg>\n",
              "      </button>\n",
              "      \n",
              "  <style>\n",
              "    .colab-df-container {\n",
              "      display:flex;\n",
              "      flex-wrap:wrap;\n",
              "      gap: 12px;\n",
              "    }\n",
              "\n",
              "    .colab-df-convert {\n",
              "      background-color: #E8F0FE;\n",
              "      border: none;\n",
              "      border-radius: 50%;\n",
              "      cursor: pointer;\n",
              "      display: none;\n",
              "      fill: #1967D2;\n",
              "      height: 32px;\n",
              "      padding: 0 0 0 0;\n",
              "      width: 32px;\n",
              "    }\n",
              "\n",
              "    .colab-df-convert:hover {\n",
              "      background-color: #E2EBFA;\n",
              "      box-shadow: 0px 1px 2px rgba(60, 64, 67, 0.3), 0px 1px 3px 1px rgba(60, 64, 67, 0.15);\n",
              "      fill: #174EA6;\n",
              "    }\n",
              "\n",
              "    [theme=dark] .colab-df-convert {\n",
              "      background-color: #3B4455;\n",
              "      fill: #D2E3FC;\n",
              "    }\n",
              "\n",
              "    [theme=dark] .colab-df-convert:hover {\n",
              "      background-color: #434B5C;\n",
              "      box-shadow: 0px 1px 3px 1px rgba(0, 0, 0, 0.15);\n",
              "      filter: drop-shadow(0px 1px 2px rgba(0, 0, 0, 0.3));\n",
              "      fill: #FFFFFF;\n",
              "    }\n",
              "  </style>\n",
              "\n",
              "      <script>\n",
              "        const buttonEl =\n",
              "          document.querySelector('#df-86f8e5b5-bab9-43f2-8cd5-261ea46746c8 button.colab-df-convert');\n",
              "        buttonEl.style.display =\n",
              "          google.colab.kernel.accessAllowed ? 'block' : 'none';\n",
              "\n",
              "        async function convertToInteractive(key) {\n",
              "          const element = document.querySelector('#df-86f8e5b5-bab9-43f2-8cd5-261ea46746c8');\n",
              "          const dataTable =\n",
              "            await google.colab.kernel.invokeFunction('convertToInteractive',\n",
              "                                                     [key], {});\n",
              "          if (!dataTable) return;\n",
              "\n",
              "          const docLinkHtml = 'Like what you see? Visit the ' +\n",
              "            '<a target=\"_blank\" href=https://colab.research.google.com/notebooks/data_table.ipynb>data table notebook</a>'\n",
              "            + ' to learn more about interactive tables.';\n",
              "          element.innerHTML = '';\n",
              "          dataTable['output_type'] = 'display_data';\n",
              "          await google.colab.output.renderOutput(dataTable, element);\n",
              "          const docLink = document.createElement('div');\n",
              "          docLink.innerHTML = docLinkHtml;\n",
              "          element.appendChild(docLink);\n",
              "        }\n",
              "      </script>\n",
              "    </div>\n",
              "  </div>\n",
              "  "
            ]
          },
          "metadata": {},
          "execution_count": 36
        }
      ],
      "source": [
        "train_df.groupby(' Label')[' Inbound', ' Min Packet Length', \n",
        "                                  ' ACK Flag Count', ' Fwd IAT Min', \n",
        "                                  ' URG Flag Count', ' Down/Up Ratio'].mean()"
      ]
    },
    {
      "cell_type": "code",
      "execution_count": 37,
      "metadata": {
        "id": "7dwnVlAqfXLE",
        "colab": {
          "base_uri": "https://localhost:8080/"
        },
        "outputId": "cee3feb9-3880-422d-9cd6-d40545b5409a"
      },
      "outputs": [
        {
          "output_type": "stream",
          "name": "stdout",
          "text": [
            "number of unique values of each column:\n",
            " Min Packet Length    565\n",
            " URG Flag Count         2\n",
            " Inbound                2\n",
            " Label                  2\n",
            "dtype: int64\n",
            "\n",
            "tree schema saved on dt.png\n",
            "\n",
            "the most important features (features on top of the tree): \n",
            "                    importance\n",
            " Min Packet Length    0.732459\n",
            " URG Flag Count       0.164161\n",
            " Inbound              0.103380\n"
          ]
        }
      ],
      "source": [
        "temp = train_df[best_attributes[:3] + [' Label']]\n",
        "b, new_dt = decision_tree(temp, ' Label', is_visualize=True)"
      ]
    },
    {
      "cell_type": "code",
      "execution_count": 41,
      "metadata": {
        "id": "YlOa9vi9lFUd",
        "colab": {
          "base_uri": "https://localhost:8080/",
          "height": 368
        },
        "outputId": "108a95c1-d305-456a-9a1d-fc892686a404"
      },
      "outputs": [
        {
          "output_type": "stream",
          "name": "stdout",
          "text": [
            "0.9982008125362739\n"
          ]
        },
        {
          "output_type": "stream",
          "name": "stderr",
          "text": [
            "/usr/local/lib/python3.7/dist-packages/sklearn/utils/deprecation.py:87: FutureWarning: Function plot_confusion_matrix is deprecated; Function `plot_confusion_matrix` is deprecated in 1.0 and will be removed in 1.2. Use one of the class methods: ConfusionMatrixDisplay.from_predictions or ConfusionMatrixDisplay.from_estimator.\n",
            "  warnings.warn(msg, category=FutureWarning)\n"
          ]
        },
        {
          "output_type": "execute_result",
          "data": {
            "text/plain": [
              "<sklearn.metrics._plot.confusion_matrix.ConfusionMatrixDisplay at 0x7fac104d3f90>"
            ]
          },
          "metadata": {},
          "execution_count": 41
        },
        {
          "output_type": "display_data",
          "data": {
            "text/plain": [
              "<Figure size 432x288 with 2 Axes>"
            ],
            "image/png": "[encoded data removed]"
          },
          "metadata": {
            "needs_background": "light"
          }
        }
      ],
      "source": [
        "temp_test = test_df[best_attributes[:3]]\n",
        "new_dt_preds = new_dt.predict(temp_test)\n",
        "print(accuracy(new_dt_preds, y_test))\n",
        "plot_confusion_matrix(new_dt, temp_test, y_test)"
      ]
    },
    {
      "cell_type": "markdown",
      "source": [
        "#Step 6: P-value"
      ],
      "metadata": {
        "id": "FYrNMsSTmpCT"
      }
    },
    {
      "cell_type": "code",
      "source": [
        "# 10-fold algorithm\n",
        "def k_fold(df, k=10):\n",
        "  accuracies = []\n",
        "  for i in range(k):\n",
        "    train_df, test_df = train_test_split(df, test_size=1.0/k, shuffle=True)\n",
        "    temp = train_df.loc[:, train_df.columns != ' Label']\n",
        "    x_train = temp.to_numpy()\n",
        "    y_train = train_df[' Label'].to_numpy()\n",
        "    temp = test_df.loc[:, test_df.columns != ' Label']\n",
        "    x_test = temp.to_numpy()\n",
        "    y_test = test_df[' Label'].to_numpy()\n",
        "\n",
        "    best_attributes, dt = decision_tree(train_df, ' Label', is_print=False)\n",
        "    dt_predictions = dt.predict(test_df.loc[:, test_df.columns != ' Label'])\n",
        "    temp = round(accuracy(dt_predictions, y_test)*100,2)\n",
        "    accuracies.append(temp)\n",
        "    print('fold',i,'done with accuracy:', temp, '%')\n",
        "  return accuracies"
      ],
      "metadata": {
        "id": "wPy0BOdxY1FL"
      },
      "execution_count": 47,
      "outputs": []
    },
    {
      "cell_type": "code",
      "source": [
        "from scipy import stats\n",
        "\n",
        "whole_dt_accuracies = k_fold(normalized_df)\n",
        "stats.ttest_1samp(whole_dt_accuracies, 0)"
      ],
      "metadata": {
        "colab": {
          "base_uri": "https://localhost:8080/"
        },
        "id": "HOtAZcfBn9Pn",
        "outputId": "9a42fe80-2885-4b64-f866-a35ea60a0fc2"
      },
      "execution_count": 48,
      "outputs": [
        {
          "output_type": "stream",
          "name": "stdout",
          "text": [
            "fold 0 done with accuracy: 99.98 %\n",
            "fold 1 done with accuracy: 99.97 %\n",
            "fold 2 done with accuracy: 99.96 %\n",
            "fold 3 done with accuracy: 99.97 %\n",
            "fold 4 done with accuracy: 99.96 %\n",
            "fold 5 done with accuracy: 99.98 %\n",
            "fold 6 done with accuracy: 99.95 %\n",
            "fold 7 done with accuracy: 99.95 %\n",
            "fold 8 done with accuracy: 99.96 %\n",
            "fold 9 done with accuracy: 99.97 %\n"
          ]
        },
        {
          "output_type": "execute_result",
          "data": {
            "text/plain": [
              "Ttest_1sampResult(statistic=29266.75523768695, pvalue=3.2322104724211677e-37)"
            ]
          },
          "metadata": {},
          "execution_count": 48
        }
      ]
    },
    {
      "cell_type": "code",
      "source": [
        "temp_df = normalized_df[[' Min Packet Length',' URG Flag Count',' Inbound', ' Label']]\n",
        "new_dt_accuracies = k_fold(temp_df)\n",
        "stats.ttest_1samp(new_dt_accuracies, 0)"
      ],
      "metadata": {
        "colab": {
          "base_uri": "https://localhost:8080/"
        },
        "id": "5hbY3qv3paKG",
        "outputId": "930ea13a-845c-4452-8c1c-4c7f47322060"
      },
      "execution_count": 52,
      "outputs": [
        {
          "output_type": "stream",
          "name": "stdout",
          "text": [
            "fold 0 done with accuracy: 99.79 %\n",
            "fold 1 done with accuracy: 99.76 %\n",
            "fold 2 done with accuracy: 99.83 %\n",
            "fold 3 done with accuracy: 99.82 %\n",
            "fold 4 done with accuracy: 99.85 %\n",
            "fold 5 done with accuracy: 99.79 %\n",
            "fold 6 done with accuracy: 99.85 %\n",
            "fold 7 done with accuracy: 99.83 %\n",
            "fold 8 done with accuracy: 99.78 %\n",
            "fold 9 done with accuracy: 99.85 %\n"
          ]
        },
        {
          "output_type": "execute_result",
          "data": {
            "text/plain": [
              "Ttest_1sampResult(statistic=9639.475617551636, pvalue=7.085817732643563e-33)"
            ]
          },
          "metadata": {},
          "execution_count": 52
        }
      ]
    },
    {
      "cell_type": "markdown",
      "metadata": {
        "id": "qCF7Oy9NnxIK"
      },
      "source": [
        "# Step 7: Detect type of attack"
      ]
    },
    {
      "cell_type": "code",
      "execution_count": 62,
      "metadata": {
        "id": "CHvOt3TdnvP2",
        "colab": {
          "base_uri": "https://localhost:8080/",
          "height": 550
        },
        "outputId": "41b19d44-be12-4701-e881-d9252437bd7b"
      },
      "outputs": [
        {
          "output_type": "stream",
          "name": "stdout",
          "text": [
            "one dataframe sampled!\n",
            "one dataframe sampled!\n",
            "one dataframe sampled!\n",
            "one dataframe sampled!\n",
            "one dataframe sampled!\n",
            "one dataframe sampled!\n",
            "one dataframe sampled!\n"
          ]
        },
        {
          "output_type": "execute_result",
          "data": {
            "text/plain": [
              "<matplotlib.axes._subplots.AxesSubplot at 0x7fac0ea57210>"
            ]
          },
          "metadata": {},
          "execution_count": 62
        },
        {
          "output_type": "display_data",
          "data": {
            "text/plain": [
              "<Figure size 504x504 with 1 Axes>"
            ],
            "image/png": "[encoded data removed]"
          },
          "metadata": {}
        }
      ],
      "source": [
        "sampled_df = pd.DataFrame()\n",
        "sampled_value_counts = {k:0 for k,v in total_value_counts.items()}\n",
        "for df_path in dataframes_paths:\n",
        "  df = pd.read_csv(df_path, chunksize=chunksize, low_memory=False)\n",
        "  for chunk in df:\n",
        "    sample = sampling(chunk, sampled_value_counts, threshold = int(total_value_counts['BENIGN']))\n",
        "    sampled_value_counts = combine_dicts(sampled_value_counts, sample[' Label'].value_counts().to_dict())\n",
        "    sampled_df = pd.concat([sampled_df, sample], ignore_index=True)\n",
        "  print('one dataframe sampled!')\n",
        "pd.DataFrame.from_dict(sampled_value_counts, orient='index', columns=['count']).plot.pie(y='count', figsize=(7,7))"
      ]
    },
    {
      "cell_type": "code",
      "execution_count": 71,
      "metadata": {
        "id": "duSM17_Loflq"
      },
      "outputs": [],
      "source": [
        "preprocessed_df = sampled_df.dropna()\n",
        "\n",
        "temp = preprocessed_df.nunique()\n",
        "single_value_columns = [c for c in preprocessed_df.columns if temp[c] == 1]\n",
        "preprocessed_df = preprocessed_df.drop(columns=single_value_columns)\n",
        "\n",
        "preprocessed_df = preprocessed_df.drop(columns=[\n",
        "                                                ' Timestamp',\n",
        "                                                'Flow ID',\n",
        "                                                'Unnamed: 0',\n",
        "                                                ' Destination Port',\n",
        "                                                ' Source Port',    \n",
        "                                                ' Source IP',\n",
        "                                                ' Destination IP',\n",
        "                                                'SimillarHTTP',\n",
        "])\n",
        "\n",
        "preprocessed_df[' Label'] = preprocessed_df[' Label'].replace(\n",
        "    ['NetBIOS', 'BENIGN', 'MSSQL', 'LDAP', 'Portmap', 'Syn', 'UDP','UDPLag'],\n",
        "     [1, 0, 2, 3, 4, 5, 6, 7])\n",
        "\n",
        "infinite_columns = ['Flow Bytes/s', ' Flow Packets/s']\n",
        "for c in infinite_columns:\n",
        "  temp = preprocessed_df[preprocessed_df[c] != float('inf')]\n",
        "  c_max = np.max(temp[c])\n",
        "  preprocessed_df.loc[preprocessed_df[c] == float('inf'), c] = c_max\n",
        "\n",
        "normalized_df = z_score(preprocessed_df.loc[:, preprocessed_df.columns != ' Label'])\n",
        "normalized_df[' Label'] = preprocessed_df[' Label']\n",
        "\n",
        "train_df, test_df = train_test_split(normalized_df, test_size=0.15, shuffle=True)\n",
        "temp = train_df.loc[:, train_df.columns != ' Label']\n",
        "x_train = temp.to_numpy()\n",
        "y_train = train_df[' Label'].to_numpy()\n",
        "temp = test_df.loc[:, test_df.columns != ' Label']\n",
        "x_test = temp.to_numpy()\n",
        "y_test = test_df[' Label'].to_numpy()"
      ]
    },
    {
      "cell_type": "code",
      "execution_count": 72,
      "metadata": {
        "id": "dlW9yhc4ra3q",
        "colab": {
          "base_uri": "https://localhost:8080/"
        },
        "outputId": "3ef410ad-87fb-427b-ab1e-1b16ee042407"
      },
      "outputs": [
        {
          "output_type": "stream",
          "name": "stdout",
          "text": [
            "number of unique values of each column:\n",
            " Flow IAT Std      51962\n",
            "Flow Bytes/s       50828\n",
            " Flow IAT Mean     40952\n",
            " Flow Packets/s    40857\n",
            "Fwd Packets/s      40363\n",
            "                   ...  \n",
            " ACK Flag Count        2\n",
            " RST Flag Count        2\n",
            " SYN Flag Count        2\n",
            "Fwd PSH Flags          2\n",
            " Inbound               2\n",
            "Length: 68, dtype: int64\n",
            "\n",
            "the most important features (features on top of the tree): \n",
            "                         importance\n",
            " Min Packet Length         0.199475\n",
            " Fwd Packet Length Max     0.197503\n",
            " Fwd Packet Length Mean    0.189763\n",
            " Average Packet Size       0.182033\n",
            " ACK Flag Count            0.132422\n",
            "...                             ...\n",
            "Fwd PSH Flags              0.000000\n",
            "Idle Mean                  0.000000\n",
            " Idle Std                  0.000000\n",
            " Idle Min                  0.000000\n",
            " CWE Flag Count            0.000000\n",
            "\n",
            "[67 rows x 1 columns]\n"
          ]
        }
      ],
      "source": [
        "best_attributes, dt = decision_tree(train_df, ' Label')"
      ]
    },
    {
      "cell_type": "code",
      "execution_count": 83,
      "metadata": {
        "id": "qDSumx75scxL",
        "colab": {
          "base_uri": "https://localhost:8080/",
          "height": 421
        },
        "outputId": "ff95f943-d7ac-43a3-fb71-c53516ed90b3"
      },
      "outputs": [
        {
          "output_type": "stream",
          "name": "stderr",
          "text": [
            "/usr/local/lib/python3.7/dist-packages/sklearn/base.py:451: UserWarning: X does not have valid feature names, but DecisionTreeClassifier was fitted with feature names\n",
            "  \"X does not have valid feature names, but\"\n",
            "/usr/local/lib/python3.7/dist-packages/sklearn/utils/deprecation.py:87: FutureWarning: Function plot_confusion_matrix is deprecated; Function `plot_confusion_matrix` is deprecated in 1.0 and will be removed in 1.2. Use one of the class methods: ConfusionMatrixDisplay.from_predictions or ConfusionMatrixDisplay.from_estimator.\n",
            "  warnings.warn(msg, category=FutureWarning)\n",
            "/usr/local/lib/python3.7/dist-packages/sklearn/base.py:451: UserWarning: X does not have valid feature names, but DecisionTreeClassifier was fitted with feature names\n",
            "  \"X does not have valid feature names, but\"\n"
          ]
        },
        {
          "output_type": "execute_result",
          "data": {
            "text/plain": [
              "<sklearn.metrics._plot.confusion_matrix.ConfusionMatrixDisplay at 0x7fabfa5a5a90>"
            ]
          },
          "metadata": {},
          "execution_count": 83
        },
        {
          "output_type": "display_data",
          "data": {
            "text/plain": [
              "<Figure size 432x288 with 2 Axes>"
            ],
            "image/png": "[encoded data removed]"
          },
          "metadata": {
            "needs_background": "light"
          }
        }
      ],
      "source": [
        "dt_preds = dt.predict(x_train)\n",
        "dt_predictions = dt.predict(test_df.loc[:, test_df.columns != ' Label'])\n",
        "plot_confusion_matrix(dt, x_test, y_test)"
      ]
    },
    {
      "cell_type": "code",
      "source": [
        "model = tf.keras.models.Sequential(layers=[\n",
        "                                    tf.keras.layers.Dense(units=67, activation='relu', input_shape=(67,), kernel_regularizer=tf.keras.regularizers.L1L2(l1=1e-5, l2=1e-4),),\n",
        "                                    tf.keras.layers.Dropout(0.5),\n",
        "                                    tf.keras.layers.Dense(units=100, activation = 'relu', kernel_regularizer=tf.keras.regularizers.L1L2(l1=1e-5, l2=1e-4)),\n",
        "                                    tf.keras.layers.Dropout(0.5),\n",
        "                                    tf.keras.layers.Dense(units=8, activation = 'softmax'),\n",
        "])\n",
        "model.compile(\n",
        "        loss = 'categorical_crossentropy',\n",
        "        optimizer = tf.keras.optimizers.Adam(learning_rate=0.001),\n",
        "        metrics = [ 'accuracy',\n",
        "                    tf.keras.metrics.Precision(),\n",
        "                    tf.keras.metrics.Recall(),\n",
        "                  ])\n",
        "model.summary()"
      ],
      "metadata": {
        "colab": {
          "base_uri": "https://localhost:8080/"
        },
        "id": "v_6DwwBUzunU",
        "outputId": "4dd8ca4a-ed0c-400d-fae7-5e1e732b8fb6"
      },
      "execution_count": 96,
      "outputs": [
        {
          "output_type": "stream",
          "name": "stdout",
          "text": [
            "Model: \"sequential_5\"\n",
            "_________________________________________________________________\n",
            " Layer (type)                Output Shape              Param #   \n",
            "=================================================================\n",
            " dense_15 (Dense)            (None, 67)                4556      \n",
            "                                                                 \n",
            " dropout (Dropout)           (None, 67)                0         \n",
            "                                                                 \n",
            " dense_16 (Dense)            (None, 100)               6800      \n",
            "                                                                 \n",
            " dropout_1 (Dropout)         (None, 100)               0         \n",
            "                                                                 \n",
            " dense_17 (Dense)            (None, 8)                 808       \n",
            "                                                                 \n",
            "=================================================================\n",
            "Total params: 12,164\n",
            "Trainable params: 12,164\n",
            "Non-trainable params: 0\n",
            "_________________________________________________________________\n"
          ]
        }
      ]
    },
    {
      "cell_type": "code",
      "source": [
        "y_train = tf.keras.utils.to_categorical(y_train, 8)\n",
        "y_test = tf.keras.utils.to_categorical(y_test, 8)"
      ],
      "metadata": {
        "id": "VrWKrapo0O6k"
      },
      "execution_count": 88,
      "outputs": []
    },
    {
      "cell_type": "code",
      "source": [
        "model.fit(x = x_train,\n",
        "          y = y_train,\n",
        "          batch_size=64,\n",
        "          epochs=15,\n",
        "          validation_split=0.1,\n",
        "          )"
      ],
      "metadata": {
        "colab": {
          "base_uri": "https://localhost:8080/"
        },
        "id": "9jMA_tcQ1Jwf",
        "outputId": "accf5c1c-5bc1-438e-e507-bbe287807a49"
      },
      "execution_count": 97,
      "outputs": [
        {
          "output_type": "stream",
          "name": "stdout",
          "text": [
            "Epoch 1/15\n",
            "4789/4789 [==============================] - 62s 3ms/step - loss: 0.4216 - accuracy: 0.8069 - precision_5: 0.8319 - recall_5: 0.7753 - val_loss: 0.3355 - val_accuracy: 0.8407 - val_precision_5: 0.8419 - val_recall_5: 0.8389\n",
            "Epoch 2/15\n",
            "4789/4789 [==============================] - 15s 3ms/step - loss: 0.3312 - accuracy: 0.8301 - precision_5: 0.8370 - recall_5: 0.8209 - val_loss: 0.3158 - val_accuracy: 0.8418 - val_precision_5: 0.8433 - val_recall_5: 0.8403\n",
            "Epoch 3/15\n",
            "4789/4789 [==============================] - 13s 3ms/step - loss: 0.3217 - accuracy: 0.8320 - precision_5: 0.8377 - recall_5: 0.8245 - val_loss: 0.3122 - val_accuracy: 0.8261 - val_precision_5: 0.8272 - val_recall_5: 0.8243\n",
            "Epoch 4/15\n",
            "4789/4789 [==============================] - 13s 3ms/step - loss: 0.3152 - accuracy: 0.8327 - precision_5: 0.8376 - recall_5: 0.8261 - val_loss: 0.3091 - val_accuracy: 0.8275 - val_precision_5: 0.8286 - val_recall_5: 0.8251\n",
            "Epoch 5/15\n",
            "4789/4789 [==============================] - 13s 3ms/step - loss: 0.3126 - accuracy: 0.8327 - precision_5: 0.8374 - recall_5: 0.8266 - val_loss: 0.3114 - val_accuracy: 0.8410 - val_precision_5: 0.8417 - val_recall_5: 0.8401\n",
            "Epoch 6/15\n",
            "4789/4789 [==============================] - 15s 3ms/step - loss: 0.3115 - accuracy: 0.8331 - precision_5: 0.8376 - recall_5: 0.8271 - val_loss: 0.3097 - val_accuracy: 0.8337 - val_precision_5: 0.8346 - val_recall_5: 0.8321\n",
            "Epoch 7/15\n",
            "4789/4789 [==============================] - 17s 3ms/step - loss: 0.3077 - accuracy: 0.8332 - precision_5: 0.8377 - recall_5: 0.8275 - val_loss: 0.3078 - val_accuracy: 0.8290 - val_precision_5: 0.8299 - val_recall_5: 0.8267\n",
            "Epoch 8/15\n",
            "4789/4789 [==============================] - 15s 3ms/step - loss: 0.3078 - accuracy: 0.8335 - precision_5: 0.8377 - recall_5: 0.8282 - val_loss: 0.3025 - val_accuracy: 0.8330 - val_precision_5: 0.8341 - val_recall_5: 0.8308\n",
            "Epoch 9/15\n",
            "4789/4789 [==============================] - 15s 3ms/step - loss: 0.3072 - accuracy: 0.8329 - precision_5: 0.8370 - recall_5: 0.8274 - val_loss: 0.3044 - val_accuracy: 0.8386 - val_precision_5: 0.8396 - val_recall_5: 0.8378\n",
            "Epoch 10/15\n",
            "4789/4789 [==============================] - 16s 3ms/step - loss: 0.3058 - accuracy: 0.8333 - precision_5: 0.8373 - recall_5: 0.8280 - val_loss: 0.3054 - val_accuracy: 0.8306 - val_precision_5: 0.8311 - val_recall_5: 0.8302\n",
            "Epoch 11/15\n",
            "4789/4789 [==============================] - 15s 3ms/step - loss: 0.3061 - accuracy: 0.8343 - precision_5: 0.8383 - recall_5: 0.8288 - val_loss: 0.3010 - val_accuracy: 0.8505 - val_precision_5: 0.8521 - val_recall_5: 0.8493\n",
            "Epoch 12/15\n",
            "4789/4789 [==============================] - 15s 3ms/step - loss: 0.3058 - accuracy: 0.8339 - precision_5: 0.8379 - recall_5: 0.8287 - val_loss: 0.3065 - val_accuracy: 0.8297 - val_precision_5: 0.8306 - val_recall_5: 0.8280\n",
            "Epoch 13/15\n",
            "4789/4789 [==============================] - 14s 3ms/step - loss: 0.3049 - accuracy: 0.8345 - precision_5: 0.8383 - recall_5: 0.8298 - val_loss: 0.3014 - val_accuracy: 0.8473 - val_precision_5: 0.8488 - val_recall_5: 0.8448\n",
            "Epoch 14/15\n",
            "4789/4789 [==============================] - 16s 3ms/step - loss: 0.3051 - accuracy: 0.8344 - precision_5: 0.8385 - recall_5: 0.8292 - val_loss: 0.3074 - val_accuracy: 0.8301 - val_precision_5: 0.8314 - val_recall_5: 0.8291\n",
            "Epoch 15/15\n",
            "4789/4789 [==============================] - 15s 3ms/step - loss: 0.3046 - accuracy: 0.8342 - precision_5: 0.8382 - recall_5: 0.8291 - val_loss: 0.3071 - val_accuracy: 0.8349 - val_precision_5: 0.8362 - val_recall_5: 0.8336\n"
          ]
        },
        {
          "output_type": "execute_result",
          "data": {
            "text/plain": [
              "<keras.callbacks.History at 0x7fabf8c9d4d0>"
            ]
          },
          "metadata": {},
          "execution_count": 97
        }
      ]
    }
  ],
  "metadata": {
    "colab": {
      "collapsed_sections": [
        "sBxzFgZeyByd",
        "oTcwZWV26uxc",
        "-dr4WIBp_E8z",
        "FOsVIZUdJwuy",
        "t-kardv4KCnK",
        "44Hf15cXB6P-",
        "CcI-aKu1B9K8",
        "nuXcDjjNidF2",
        "qCF7Oy9NnxIK"
      ],
      "name": "DataMining_P2.ipynb",
      "provenance": []
    },
    "kernelspec": {
      "display_name": "Python 3",
      "name": "python3"
    },
    "language_info": {
      "name": "python"
    }
  },
  "nbformat": 4,
  "nbformat_minor": 0
}